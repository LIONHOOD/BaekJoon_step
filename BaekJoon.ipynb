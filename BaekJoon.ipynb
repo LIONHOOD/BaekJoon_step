{
  "nbformat": 4,
  "nbformat_minor": 0,
  "metadata": {
    "colab": {
      "provenance": [],
      "collapsed_sections": [
        "NwFps4Ru_QaU",
        "fKEOZS6rhNlf",
        "BU2PAqqbnZaB",
        "Jigc1o0KC9og",
        "s5S_VT1IogUc",
        "wpywzSkz-7fw",
        "u8HA49FYs6wF",
        "43R5O87kwawv",
        "AcOhBTRVaNp2",
        "q9QBr9tRjHQb",
        "mNWMrtmQdQeu",
        "nK_tqImU2rLx",
        "plFxWqbI276m",
        "5U9pcgQh3AEu",
        "nbrasqIz3Dj6",
        "RLcuFKVCFTh2",
        "0j88cM4gF-_h",
        "B2fLHkPhQx3K"
      ],
      "authorship_tag": "ABX9TyN5tQwgLJsDjLVQplqO1Qm2"
    },
    "kernelspec": {
      "name": "python3",
      "display_name": "Python 3"
    },
    "language_info": {
      "name": "python"
    },
    "gpuClass": "standard"
  },
  "cells": [
    {
      "cell_type": "markdown",
      "source": [
        "#기초"
      ],
      "metadata": {
        "id": "NwFps4Ru_QaU"
      }
    },
    {
      "cell_type": "markdown",
      "source": [
        "## (기타)"
      ],
      "metadata": {
        "id": "Sx-F9OLRcZ65"
      }
    },
    {
      "cell_type": "code",
      "source": [
        "X = int(input())\n",
        "for n in range(int(input())):\n",
        "  a, b = input().split()\n",
        "  X -= int(a)*int(b)\n",
        "print('Yes' if X==0 else 'No')"
      ],
      "metadata": {
        "colab": {
          "base_uri": "https://localhost:8080/"
        },
        "id": "QJ3uK_PQ5X6a",
        "outputId": "7de9c0c6-8821-45a6-af20-7bf40fe3b963"
      },
      "execution_count": null,
      "outputs": [
        {
          "output_type": "stream",
          "name": "stdout",
          "text": [
            "260000\n",
            "4\n",
            "20000 5\n",
            "30000 2\n",
            "10000 6\n",
            "5000 8\n",
            "Yes\n"
          ]
        }
      ]
    },
    {
      "cell_type": "code",
      "source": [
        "# int(True)=1, int(False)=0\n",
        "X = int(input())\n",
        "for n in range(int(input())):\n",
        "  a, b = map(int, input().split())\n",
        "  X -= a*b\n",
        "print('YNeos'[X!=0::2])"
      ],
      "metadata": {
        "colab": {
          "base_uri": "https://localhost:8080/"
        },
        "id": "HW8bxBrL67R5",
        "outputId": "8ac7ffd4-8209-4c97-ac60-3ca47e4fa5d4"
      },
      "execution_count": null,
      "outputs": [
        {
          "output_type": "stream",
          "name": "stdout",
          "text": [
            "15000\n",
            "3\n",
            "2500 2\n",
            "3000 3\n",
            "500 2\n",
            "YES\n"
          ]
        }
      ]
    },
    {
      "cell_type": "code",
      "source": [
        "for n in zip([-1,-1,-2,-2,-2,-8], map(int, input().split())):\n",
        "  print(-sum(n), end=' ')"
      ],
      "metadata": {
        "colab": {
          "base_uri": "https://localhost:8080/"
        },
        "id": "sSwpQ-dvw8G4",
        "outputId": "ff390f57-8fc4-48f7-95cf-fc2c3d4a5271"
      },
      "execution_count": null,
      "outputs": [
        {
          "output_type": "stream",
          "name": "stdout",
          "text": [
            "0 1 2 2 2 7\n",
            "1 0 0 0 0 1 "
          ]
        }
      ]
    },
    {
      "cell_type": "code",
      "source": [
        "for n, r in zip(input().split(), [1,1,2,2,2,8]):\n",
        "  print(r-int(n), end=' ')"
      ],
      "metadata": {
        "colab": {
          "base_uri": "https://localhost:8080/"
        },
        "id": "rK7zNTic3bTJ",
        "outputId": "8ff7f4c4-7d2c-4523-aedb-b51b7c847b2f"
      },
      "execution_count": null,
      "outputs": [
        {
          "output_type": "stream",
          "name": "stdout",
          "text": [
            "0 1 2 2 2 7\n",
            "1 0 0 0 0 1 "
          ]
        }
      ]
    },
    {
      "cell_type": "code",
      "source": [
        "import sys\n",
        "T = int(input())\n",
        "for i in range(1,T+1,1):\n",
        "  A, B = map(int, sys.stdin.readline().split())\n",
        "  print('Case #{}: {} + {} = {}'.format(i, A, B, A+B))"
      ],
      "metadata": {
        "id": "gVjshtkPFJOh"
      },
      "execution_count": null,
      "outputs": []
    },
    {
      "cell_type": "code",
      "source": [
        "N = int(input())\n",
        "for i in range(N):\n",
        "  print(' '*(N-i-1) + '*'*(i+1))"
      ],
      "metadata": {
        "id": "4Wcva6btGiEM"
      },
      "execution_count": null,
      "outputs": []
    },
    {
      "cell_type": "code",
      "source": [
        "N, X = map(int, input().split())\n",
        "A = list(map(int, input().split()))\n",
        "for i in range(N):\n",
        "  if A[i]<X:\n",
        "    print(A[i], end=' ')"
      ],
      "metadata": {
        "id": "i5C_ZZQRqpCs"
      },
      "execution_count": null,
      "outputs": []
    },
    {
      "cell_type": "code",
      "source": [
        "while True:\n",
        "  try:\n",
        "    A, B = map(int, input().split())\n",
        "  except:\n",
        "    break\n",
        "  print(A+B)\n"
      ],
      "metadata": {
        "id": "3ER--yTyr2mH"
      },
      "execution_count": null,
      "outputs": []
    },
    {
      "cell_type": "code",
      "source": [
        "N = int(input())\n",
        "X = N\n",
        "length = 0\n",
        "while True:\n",
        "  N = (N%10)*10 + (N//10 + N%10)%10\n",
        "  length += 1\n",
        "  if N==X:\n",
        "    break\n",
        "print(length)"
      ],
      "metadata": {
        "id": "EeCUYE8D89g8"
      },
      "execution_count": null,
      "outputs": []
    },
    {
      "cell_type": "code",
      "source": [
        "N = int(input())\n",
        "L = list(map(int, input().split()))\n",
        "print(min(L), max(L))"
      ],
      "metadata": {
        "id": "39Dq74QPCp1h"
      },
      "execution_count": null,
      "outputs": []
    },
    {
      "cell_type": "code",
      "source": [
        "L = [int(input()) for i in range(9)]\n",
        "print(max(L), L.index(max(L))+1)"
      ],
      "metadata": {
        "id": "6hz1tGTYql0T"
      },
      "execution_count": null,
      "outputs": []
    },
    {
      "cell_type": "code",
      "source": [
        "L = [int(input()) for i in range(3)]\n",
        "M = list(str(L[0]*L[1]*L[2]))\n",
        "for j in range(10):\n",
        "  print(M.count(str(j)))"
      ],
      "metadata": {
        "id": "-lAn6K-_vuzE"
      },
      "execution_count": null,
      "outputs": []
    },
    {
      "cell_type": "code",
      "source": [
        "L = [int(input())%42 for i in range(10)]\n",
        "n = 1\n",
        "for i in range(1,len(L),1):\n",
        "  if L[i] not in L[:i]:\n",
        "    n += 1\n",
        "print(n)"
      ],
      "metadata": {
        "id": "8gSSFBT5wlhw"
      },
      "execution_count": null,
      "outputs": []
    },
    {
      "cell_type": "code",
      "source": [
        "L = [int(input())%42 for i in range(10)]\n",
        "print(len(set(L)))"
      ],
      "metadata": {
        "id": "NR3NrTxzMnU_"
      },
      "execution_count": null,
      "outputs": []
    },
    {
      "cell_type": "code",
      "source": [
        "count = {}\n",
        "lists = [int(input())%42 for k in range(10)]\n",
        "for i in lists:\n",
        "    try: count[i] += 1\n",
        "    except: count[i] = 1\n",
        "print(len(count))"
      ],
      "metadata": {
        "id": "9OD7s2QyM-sT"
      },
      "execution_count": null,
      "outputs": []
    },
    {
      "cell_type": "code",
      "source": [
        "N = int(input())\n",
        "score = list(map(int, input().split()))\n",
        "M = max(score)\n",
        "for j in range(N):\n",
        "  score[j] = score[j]*100/M\n",
        "print(sum(score)/N)"
      ],
      "metadata": {
        "id": "asxkkx3LSMz_"
      },
      "execution_count": null,
      "outputs": []
    },
    {
      "cell_type": "code",
      "source": [
        "n = int(input())\n",
        "s = [int(x) for x in input().split()]\n",
        "print(sum(s)/max(s)*100/n)"
      ],
      "metadata": {
        "id": "SxUAK_GVY2-c"
      },
      "execution_count": null,
      "outputs": []
    },
    {
      "cell_type": "code",
      "source": [
        "t = int(input())\n",
        "res = []\n",
        "for i in range(t):\n",
        "  ox = input()\n",
        "  r = list(ox)\n",
        "  score = 0\n",
        "  count = 1\n",
        "  for a in r:\n",
        "    if a=='O':\n",
        "      score += count\n",
        "      count += 1\n",
        "    else:\n",
        "      count = 1\n",
        "  res.append(score)\n",
        "for s in res:\n",
        "  print(s)"
      ],
      "metadata": {
        "id": "6I3s-mAJ4kzG"
      },
      "execution_count": null,
      "outputs": []
    },
    {
      "cell_type": "code",
      "source": [
        "t = int(input())\n",
        "for i in range(t):\n",
        "  ox = input()\n",
        "  r = list(ox)\n",
        "  score = 0\n",
        "  count = 1\n",
        "  for a in r:\n",
        "    if a=='O':\n",
        "      score += count\n",
        "      count += 1\n",
        "    else:\n",
        "      count = 1\n",
        "  print(score)"
      ],
      "metadata": {
        "id": "d_5RsvMs8uDB"
      },
      "execution_count": null,
      "outputs": []
    },
    {
      "cell_type": "code",
      "source": [
        "C = int(input())\n",
        "for i in range(C):\n",
        "  T = list(map(int, input().split()))\n",
        "  exp = sum(T[1:]) / T[0]\n",
        "  num = 0\n",
        "  for j in range(T[0]):\n",
        "    if T[j+1]>exp:\n",
        "      num += 1\n",
        "  rat = num/T[0]*100\n",
        "  print('{:.3f}%'.format(rat))"
      ],
      "metadata": {
        "id": "daMiEvZNz4L8"
      },
      "execution_count": null,
      "outputs": []
    },
    {
      "cell_type": "code",
      "source": [
        "import numpy as np\n",
        "round(np.average([50,50,70,83.323,100]), 4)"
      ],
      "metadata": {
        "colab": {
          "base_uri": "https://localhost:8080/"
        },
        "id": "F4uXJwC52JI6",
        "outputId": "8244bed0-8fcc-4e5a-8988-92c46b56f25b"
      },
      "execution_count": null,
      "outputs": [
        {
          "output_type": "execute_result",
          "data": {
            "text/plain": [
              "70.6646"
            ]
          },
          "metadata": {},
          "execution_count": 2
        }
      ]
    },
    {
      "cell_type": "code",
      "source": [
        "round(np.mean([50,50,70,83.323,100]), 4)"
      ],
      "metadata": {
        "id": "PZYD8U4Sw-Gf"
      },
      "execution_count": null,
      "outputs": []
    },
    {
      "cell_type": "markdown",
      "source": [
        "## 1차원 배열 - 개수 세기"
      ],
      "metadata": {
        "id": "fKEOZS6rhNlf"
      }
    },
    {
      "cell_type": "code",
      "source": [
        "int(input())\n",
        "L = [*map(int,input().split())]\n",
        "print(L.count(int(input())))"
      ],
      "metadata": {
        "colab": {
          "base_uri": "https://localhost:8080/"
        },
        "id": "AlskWWdAg7lK",
        "outputId": "a1b050d5-cecb-432e-94d7-4bd5f8588b90"
      },
      "execution_count": null,
      "outputs": [
        {
          "output_type": "stream",
          "name": "stdout",
          "text": [
            "11\n",
            "1 4 1 2 4 2 4 2 3 4 4\n",
            "5\n",
            "0\n"
          ]
        }
      ]
    },
    {
      "cell_type": "markdown",
      "source": [
        "## 1차원 배열 - 과제 안 내신 분..?"
      ],
      "metadata": {
        "id": "BU2PAqqbnZaB"
      }
    },
    {
      "cell_type": "code",
      "source": [
        "L = {int(input()) for _ in range(28)}\n",
        "print(min({*range(1,31)}-L))\n",
        "print(max({*range(1,31)}-L))"
      ],
      "metadata": {
        "colab": {
          "base_uri": "https://localhost:8080/"
        },
        "id": "GiW7g2KIndtL",
        "outputId": "8da0d1cc-b6f3-4eb1-ffa4-421e05aac702"
      },
      "execution_count": null,
      "outputs": [
        {
          "output_type": "stream",
          "name": "stdout",
          "text": [
            "1\n",
            "2\n",
            "3\n",
            "4\n",
            "5\n",
            "6\n",
            "8\n",
            "9\n",
            "10\n",
            "11\n",
            "12\n",
            "13\n",
            "14\n",
            "16\n",
            "17\n",
            "18\n",
            "19\n",
            "20\n",
            "21\n",
            "22\n",
            "23\n",
            "24\n",
            "25\n",
            "26\n",
            "27\n",
            "28\n",
            "29\n",
            "30\n",
            "7\n",
            "15\n"
          ]
        }
      ]
    },
    {
      "cell_type": "markdown",
      "source": [
        "## 윤년"
      ],
      "metadata": {
        "id": "Jigc1o0KC9og"
      }
    },
    {
      "cell_type": "code",
      "source": [
        "print(int((y:=int(input()))%4==0 and y%100!=0 or y%400==0))"
      ],
      "metadata": {
        "colab": {
          "base_uri": "https://localhost:8080/"
        },
        "id": "XIGdL2ipC9P-",
        "outputId": "85abbeaa-143a-45c3-e97c-c5771af16867"
      },
      "execution_count": null,
      "outputs": [
        {
          "output_type": "stream",
          "name": "stdout",
          "text": [
            "400\n",
            "1\n"
          ]
        }
      ]
    },
    {
      "cell_type": "markdown",
      "source": [
        "## 줄 세우기"
      ],
      "metadata": {
        "id": "EoHDag-4FU43"
      }
    },
    {
      "cell_type": "code",
      "source": [
        "a = []\n",
        "for x,i in zip(range(1,int(input())+1),input().split()):\n",
        "  a.insert(int(i),x)\n",
        "print(*a[::-1])"
      ],
      "metadata": {
        "colab": {
          "base_uri": "https://localhost:8080/"
        },
        "id": "hBlWD-EiFUlo",
        "outputId": "01250ad9-d74d-4c52-b208-190164713bdc"
      },
      "execution_count": null,
      "outputs": [
        {
          "output_type": "stream",
          "name": "stdout",
          "text": [
            "5\n",
            "0 1 1 3 2\n",
            "4 2 5 3 1\n"
          ]
        }
      ]
    },
    {
      "cell_type": "code",
      "source": [
        "# 줄 세우기 예시\n",
        "a = [] # 줄 세운 결과를 저장할 리스트\n",
        "L = [0,1,1,3,2] # 학생 1~n이 각자 뽑은 번호 리스트\n",
        "for x,i in zip([1,2,3,4,5],L): # 학생이 뽑은 번호와 그 학생을 묶어서\n",
        "  a.insert(i,x) # 리스트의 그 번호에 그 학생을 저장\n",
        "print(*a[::-1]) # 거꾸로 저장되어있으므로 역으로 출력하면 원하는 결과를 반환"
      ],
      "metadata": {
        "colab": {
          "base_uri": "https://localhost:8080/"
        },
        "id": "u-2mnFZNgEs-",
        "outputId": "b91594f2-0ccd-4966-c9f6-78d4d4667eab"
      },
      "execution_count": null,
      "outputs": [
        {
          "output_type": "stream",
          "name": "stdout",
          "text": [
            "4 2 5 3 1\n"
          ]
        }
      ]
    },
    {
      "cell_type": "code",
      "source": [
        "# 거꾸로 저장하지 않는 코드\n",
        "a = [] # 줄 세운 결과 저장할 리스트\n",
        "n = int(input()) # 학생 수 n명\n",
        "L = input().split() # 학생 1~n이 뽑은 번호 : 몇 칸 앞으로 갈지\n",
        "for i in range(n): # 학생 1(i=0)부터 n(i=n-1)까지,\n",
        "  a.insert(i-int(L[i]),i+1)\n",
        "  # 리스트의 적절한 인덱스(뽑을 수 있는 번호의 최댓값 - 뽑은 번호 = 몇 칸 뒤로 갈지)에 학생(i+1)을 삽입\n",
        "print(*a)"
      ],
      "metadata": {
        "colab": {
          "base_uri": "https://localhost:8080/"
        },
        "id": "lluk1twWk-dX",
        "outputId": "6097a983-4668-452c-c26f-9399a1ff9ec6"
      },
      "execution_count": null,
      "outputs": [
        {
          "output_type": "stream",
          "name": "stdout",
          "text": [
            "5\n",
            "0 1 1 3 2\n",
            "4 2 5 3 1\n"
          ]
        }
      ]
    },
    {
      "cell_type": "markdown",
      "source": [
        "## 홀수"
      ],
      "metadata": {
        "id": "s5S_VT1IogUc"
      }
    },
    {
      "cell_type": "code",
      "source": [
        "s = 0 # 홀수 합\n",
        "m = 101 # 최소 홀수\n",
        "for l in [int(input()) for i in range(7)]: # 입력받은 7개의 수에 대해,\n",
        "  if l%2!=0: # 홀수이면,\n",
        "    s += l # 합하고\n",
        "    m = min(m,l) # 최소 홀수 갱신\n",
        "if s!=0: # 합이 0이 아니면,\n",
        "  print(s,m,sep='\\n') # 합과 최소 홀수 출력\n",
        "else: # 합이 0이면, 즉, 모두 짝수였다면,\n",
        "  print(-1) # -1 출력"
      ],
      "metadata": {
        "colab": {
          "base_uri": "https://localhost:8080/"
        },
        "id": "7QcFxcO9ohib",
        "outputId": "c541d4d4-2bc8-4b44-9892-9ce4fd7109b3"
      },
      "execution_count": null,
      "outputs": [
        {
          "output_type": "stream",
          "name": "stdout",
          "text": [
            "12\n",
            "77\n",
            "38\n",
            "41\n",
            "53\n",
            "92\n",
            "85\n",
            "256\n",
            "41\n"
          ]
        }
      ]
    },
    {
      "cell_type": "code",
      "source": [
        "e = []\n",
        "for _ in range(7):\n",
        "  if (x:=int(input()))%2:\n",
        "    e.append(x)\n",
        "print(f'{sum(e)}\\n{min(e)}' if e else -1) # 빈 리스트이면 False"
      ],
      "metadata": {
        "colab": {
          "base_uri": "https://localhost:8080/"
        },
        "id": "t7whIlqMq1Mt",
        "outputId": "8e781e7d-e335-4fbe-f690-4e9b7b7851f7"
      },
      "execution_count": null,
      "outputs": [
        {
          "output_type": "stream",
          "name": "stdout",
          "text": [
            "2\n",
            "4\n",
            "20\n",
            "32\n",
            "6\n",
            "10\n",
            "8\n",
            "-1\n"
          ]
        }
      ]
    },
    {
      "cell_type": "markdown",
      "source": [
        "## 약수"
      ],
      "metadata": {
        "id": "diIRhJ2Z7mnB"
      }
    },
    {
      "cell_type": "code",
      "source": [
        "k = int(input()) # 진짜 약수의 개수\n",
        "*D, = map(int,input().split()) # 진짜 약수(정렬되지 않음)\n",
        "print(max(D)*min(D)) # 최대와 최소를 곱하면 원래 수"
      ],
      "metadata": {
        "colab": {
          "base_uri": "https://localhost:8080/"
        },
        "id": "RWWtwTG37pke",
        "outputId": "fae6d6a2-b0d0-4a23-81ec-d5be8b4f4bde"
      },
      "execution_count": null,
      "outputs": [
        {
          "output_type": "stream",
          "name": "stdout",
          "text": [
            "2\n",
            "2 4\n",
            "8\n"
          ]
        }
      ]
    },
    {
      "cell_type": "code",
      "source": [
        "input()\n",
        "print(max(D:=[*map(int,input().split())])*min(D))"
      ],
      "metadata": {
        "colab": {
          "base_uri": "https://localhost:8080/"
        },
        "id": "cLa8G6qXFnQI",
        "outputId": "937444e6-da5e-46bc-b8bb-dea5c044aa1c"
      },
      "execution_count": null,
      "outputs": [
        {
          "output_type": "stream",
          "name": "stdout",
          "text": [
            "2\n",
            "2 4\n",
            "8\n"
          ]
        }
      ]
    },
    {
      "cell_type": "markdown",
      "source": [
        "## 최대공약수와 최소공배수"
      ],
      "metadata": {
        "id": "EoshPoYHGoqF"
      }
    },
    {
      "cell_type": "code",
      "source": [
        "# 직관적인 방법\n",
        "a,b = map(int,input().split())\n",
        "for d in range(min(a,b),0,-1): # a, b 중 작은 값부터 1까지로,\n",
        "  if a%d==0 and b%d==0: # a,b를 나눈 나머지가 모두 0일 때,\n",
        "    print(d) # 최대공약수이므로 출력\n",
        "    print(a*b//d) # 두 수의 곱을 최대공약수로 나누면 최소공배수\n",
        "    break # 반복문 탈출"
      ],
      "metadata": {
        "colab": {
          "base_uri": "https://localhost:8080/"
        },
        "id": "qMnV6DtsGrb_",
        "outputId": "d33b1411-27e2-44f5-b243-ef2d9d5d770c"
      },
      "execution_count": null,
      "outputs": [
        {
          "output_type": "stream",
          "name": "stdout",
          "text": [
            "24 18\n",
            "6\n",
            "72\n"
          ]
        }
      ]
    },
    {
      "cell_type": "code",
      "source": [
        "# 유클리드 호제법 gcd(a,b)==gcd(b,a%b)\n",
        "a,b = map(int,input().split())\n",
        "m = a*b\n",
        "while a%b!=0:\n",
        "  a,b = b,a%b\n",
        "print(b)\n",
        "print(m//b)"
      ],
      "metadata": {
        "id": "VuNZ2l_U2jZh"
      },
      "execution_count": null,
      "outputs": []
    },
    {
      "cell_type": "markdown",
      "source": [
        "## 애너그램 만들기"
      ],
      "metadata": {
        "id": "-O7jeRIt9h6l"
      }
    },
    {
      "cell_type": "code",
      "source": [
        "# 두 문자열에 존재하는 모든 문자 종류 각각에 대해, 두 문자열에 대한 등장 빈도 차이를 합하여 계산\n",
        "A,B = input(),input()\n",
        "s = 0\n",
        "for k in {*(A+B)}:\n",
        "  s += abs(A.count(k)-B.count(k))\n",
        "print(s)"
      ],
      "metadata": {
        "colab": {
          "base_uri": "https://localhost:8080/"
        },
        "id": "BoLDscAsx0h7",
        "outputId": "0facad36-3a92-4a5d-c8ee-4cdc0ff5f421"
      },
      "execution_count": null,
      "outputs": [
        {
          "output_type": "stream",
          "name": "stdout",
          "text": [
            "xxxy\n",
            "xyyy\n",
            "4\n"
          ]
        }
      ]
    },
    {
      "cell_type": "code",
      "source": [
        "A,B = input(),input()\n",
        "print(sum(abs(A.count(k)-B.count(k)) for k in {*(A+B)}))"
      ],
      "metadata": {
        "colab": {
          "base_uri": "https://localhost:8080/"
        },
        "id": "mWU6dmGQCfxz",
        "outputId": "f0a1a2ac-2fc1-4c2c-cd1b-42aed8c642e6"
      },
      "execution_count": null,
      "outputs": [
        {
          "output_type": "stream",
          "name": "stdout",
          "text": [
            "sdf\n",
            "dsdf\n",
            "1\n"
          ]
        }
      ]
    },
    {
      "cell_type": "markdown",
      "source": [
        "## 시험 감독"
      ],
      "metadata": {
        "id": "bgDX5UwAsJSD"
      }
    },
    {
      "cell_type": "code",
      "source": [
        "input()\n",
        "A = [*map(int,input().split())]\n",
        "B,C = map(int,input().split())\n",
        "print(sum([(r:=[0,a-B][a>B])//C+1,r//C+2][r%C!=0] for a in A))"
      ],
      "metadata": {
        "colab": {
          "base_uri": "https://localhost:8080/"
        },
        "id": "VyfOKxiKsIxV",
        "outputId": "12130655-09fb-4436-8e7a-64e82b7b367c"
      },
      "execution_count": null,
      "outputs": [
        {
          "output_type": "stream",
          "name": "stdout",
          "text": [
            "5\n",
            "10 9 10 9 10\n",
            "7 2\n",
            "13\n"
          ]
        }
      ]
    },
    {
      "cell_type": "code",
      "source": [
        "input()\n",
        "A = [*map(int,input().split())]\n",
        "B,C = map(int,input().split())\n",
        "print(sum([1,1-((B-a)//C)][a>B] for a in A))"
      ],
      "metadata": {
        "colab": {
          "base_uri": "https://localhost:8080/"
        },
        "id": "jRowBEeTxUxd",
        "outputId": "9943fe6d-6ab0-40dc-82b5-277e985c1279"
      },
      "execution_count": null,
      "outputs": [
        {
          "output_type": "stream",
          "name": "stdout",
          "text": [
            "5\n",
            "10 9 10 9 10\n",
            "7 2\n",
            "13\n"
          ]
        }
      ]
    },
    {
      "cell_type": "markdown",
      "source": [
        "# 함수"
      ],
      "metadata": {
        "id": "wpywzSkz-7fw"
      }
    },
    {
      "cell_type": "markdown",
      "source": [
        "##정수 N개의 합"
      ],
      "metadata": {
        "id": "MYg0Bij8_ZGG"
      }
    },
    {
      "cell_type": "code",
      "source": [
        "def fun(a):\n",
        "  return(sum(a))"
      ],
      "metadata": {
        "id": "iTHNP3Kq_dfm"
      },
      "execution_count": null,
      "outputs": []
    },
    {
      "cell_type": "code",
      "source": [
        "fun([1,2,3])"
      ],
      "metadata": {
        "colab": {
          "base_uri": "https://localhost:8080/"
        },
        "id": "tTFoFkhpa0VB",
        "outputId": "e329a574-02a7-43da-b08d-8a3d2f183a0e"
      },
      "execution_count": null,
      "outputs": [
        {
          "output_type": "execute_result",
          "data": {
            "text/plain": [
              "6"
            ]
          },
          "metadata": {},
          "execution_count": 5
        }
      ]
    },
    {
      "cell_type": "code",
      "source": [
        "def solve(a):\n",
        "  s = 0\n",
        "  for i in range(len(a)):\n",
        "    s += a[i]\n",
        "  return s"
      ],
      "metadata": {
        "id": "cDhpS02yaN_o"
      },
      "execution_count": null,
      "outputs": []
    },
    {
      "cell_type": "code",
      "source": [
        "solve([1,2,3])"
      ],
      "metadata": {
        "colab": {
          "base_uri": "https://localhost:8080/"
        },
        "id": "Hg2j-7OVau2n",
        "outputId": "4cc4918a-cc63-4e7d-93f5-e608586cdc3b"
      },
      "execution_count": null,
      "outputs": [
        {
          "output_type": "execute_result",
          "data": {
            "text/plain": [
              "6"
            ]
          },
          "metadata": {},
          "execution_count": 2
        }
      ]
    },
    {
      "cell_type": "markdown",
      "source": [
        "##셀프 넘버"
      ],
      "metadata": {
        "id": "CTkpz3VaYRit"
      }
    },
    {
      "cell_type": "code",
      "source": [
        "n_list = list(range(1,10001))\n",
        "notsn = []\n",
        "for n in n_list:\n",
        "  for x in str(n):\n",
        "    n += int(x) # 생성자가 있는 수, 즉 셀프 넘버가 아닌 수\n",
        "  if n<=10000:\n",
        "    notsn.append(n)\n",
        "for y in set(notsn): # set으로 집합화하여 중복값 제거\n",
        "  n_list.remove(y) # 셀프 넘버가 아닌 수 제거\n",
        "for sn in n_list:\n",
        "  print(sn)"
      ],
      "metadata": {
        "id": "8cNW_2G255sr"
      },
      "execution_count": null,
      "outputs": []
    },
    {
      "cell_type": "code",
      "source": [
        "n_set = set(range(1,10001))\n",
        "nsn_set = set()\n",
        "for n in n_set:\n",
        "  for x in str(n):\n",
        "    n += int(x)\n",
        "  nsn_set.add(n) # 셀프 넘버가 아닌 수의 집합, add로 집합에 원소 추가\n",
        "sn_set = n_set - nsn_set # 차집합 연산\n",
        "for sn in sorted(sn_set): # 집합 내 원소에 순서 부여, 오름차순:default, 내림차순:reverse=True \n",
        "  print(sn)"
      ],
      "metadata": {
        "id": "UJniZBxCMJoL"
      },
      "execution_count": null,
      "outputs": []
    },
    {
      "cell_type": "code",
      "source": [
        "# 시간 초과!!!!!\n",
        "\n",
        "# d(n)정의: n과 n의 각 자리 수를 더하는 함수 \n",
        "def d(n):\n",
        "  d = n\n",
        "  for i in range(len(str(n))):\n",
        "    d += int(str(n)[i])\n",
        "  return(d)\n",
        "\n",
        "# 셀프 넘버 판별 함수 정의: 맞으면 1, 아니면 0을 반환\n",
        "g = 0 # 이후 반복문에서 발생할 오류에 대비하여 g를 전역변수로 선언\n",
        "def sn(k):\n",
        "  global g\n",
        "  for i in range(1,k):\n",
        "    g = i\n",
        "    while g<k:\n",
        "      g = d(g)\n",
        "    if g==k:\n",
        "      break\n",
        "  if g!=k:\n",
        "    return 1\n",
        "  else:\n",
        "    return 0\n",
        "\n",
        "# 10000보다 작거나 같은 셀프 넘버를 줄마다 출력\n",
        "for k in range(1,10001):\n",
        "  if sn(k)==1:\n",
        "    print(k)"
      ],
      "metadata": {
        "id": "3r7IB5b3YUE5"
      },
      "execution_count": null,
      "outputs": []
    },
    {
      "cell_type": "markdown",
      "source": [
        "##한수"
      ],
      "metadata": {
        "id": "_cWVz24daeyb"
      }
    },
    {
      "cell_type": "code",
      "source": [
        "N = int(input())\n",
        "count = 0\n",
        "for x in range(1,N+1):\n",
        "  if all(int(str(x)[i])-int(str(x)[i+1]) == int(str(x)[i+1])-int(str(x)[i+2]) for i in range(len(str(x))-2)):\n",
        "    count += 1\n",
        "print(count)"
      ],
      "metadata": {
        "colab": {
          "base_uri": "https://localhost:8080/"
        },
        "id": "Y5gAnb9NgFi8",
        "outputId": "c9486c35-0985-4b7d-c089-bcae0be28ced"
      },
      "execution_count": null,
      "outputs": [
        {
          "output_type": "stream",
          "name": "stdout",
          "text": [
            "500\n",
            "119\n"
          ]
        }
      ]
    },
    {
      "cell_type": "code",
      "source": [
        "N = input()\n",
        "count = 0\n",
        "for x in range(1,int(N)+1):\n",
        "  for i in range(len(str(x))-2):\n",
        "    if int(str(x)[i])-int(str(x)[i+1]) != int(str(x)[i+1])-int(str(x)[i+2]):\n",
        "      break\n",
        "  else:\n",
        "    count += 1\n",
        "print(count)"
      ],
      "metadata": {
        "colab": {
          "base_uri": "https://localhost:8080/"
        },
        "id": "vZAsd9mhag4j",
        "outputId": "2950d62a-5b18-4033-b254-5b0ffac2fb43"
      },
      "execution_count": null,
      "outputs": [
        {
          "output_type": "stream",
          "name": "stdout",
          "text": [
            "500\n",
            "119\n"
          ]
        }
      ]
    },
    {
      "cell_type": "markdown",
      "source": [
        "#문자열"
      ],
      "metadata": {
        "id": "u8HA49FYs6wF"
      }
    },
    {
      "cell_type": "markdown",
      "source": [
        "##아스키 코드"
      ],
      "metadata": {
        "id": "33LFEZC4tA0l"
      }
    },
    {
      "cell_type": "code",
      "source": [
        "print(ord(input()))"
      ],
      "metadata": {
        "colab": {
          "base_uri": "https://localhost:8080/"
        },
        "id": "IP3k-p9etEs9",
        "outputId": "c27a0521-41e9-4d41-d4de-5176afb5b2dd"
      },
      "execution_count": null,
      "outputs": [
        {
          "output_type": "stream",
          "name": "stdout",
          "text": [
            "A\n",
            "65\n"
          ]
        }
      ]
    },
    {
      "cell_type": "code",
      "source": [
        "# 연습\n",
        "print(ord('z')-ord('a')+1) # 알파벳 소문자의 개수"
      ],
      "metadata": {
        "colab": {
          "base_uri": "https://localhost:8080/"
        },
        "id": "SCTH--hg0aCV",
        "outputId": "6beadb5b-cba1-451a-937b-bf552516c1c8"
      },
      "execution_count": null,
      "outputs": [
        {
          "output_type": "stream",
          "name": "stdout",
          "text": [
            "26\n"
          ]
        }
      ]
    },
    {
      "cell_type": "code",
      "source": [
        "# chr()은 ord()의 역함수 \n",
        "chr(ord('a')), ord(chr(97))"
      ],
      "metadata": {
        "colab": {
          "base_uri": "https://localhost:8080/"
        },
        "id": "gMgcyymX1SYz",
        "outputId": "2b779f65-9e24-4d76-beb3-f678131eee41"
      },
      "execution_count": null,
      "outputs": [
        {
          "output_type": "execute_result",
          "data": {
            "text/plain": [
              "('a', 97)"
            ]
          },
          "metadata": {},
          "execution_count": 117
        }
      ]
    },
    {
      "cell_type": "markdown",
      "source": [
        "##숫자의 합"
      ],
      "metadata": {
        "id": "ludwUsOftL__"
      }
    },
    {
      "cell_type": "code",
      "source": [
        "N = int(input())\n",
        "print(sum(int(s) for s in input()))"
      ],
      "metadata": {
        "colab": {
          "base_uri": "https://localhost:8080/"
        },
        "id": "GO9c7B16tK-k",
        "outputId": "7d7b54ea-b96c-45c4-8332-d5b51dfb2c25"
      },
      "execution_count": null,
      "outputs": [
        {
          "name": "stdout",
          "output_type": "stream",
          "text": [
            "11\n",
            "10987654321\n"
          ]
        },
        {
          "output_type": "execute_result",
          "data": {
            "text/plain": [
              "46"
            ]
          },
          "metadata": {},
          "execution_count": 64
        }
      ]
    },
    {
      "cell_type": "code",
      "source": [
        "N = int(input())\n",
        "print(sum(map(int, input()))) # 문자열의 각 원소를 정수화"
      ],
      "metadata": {
        "colab": {
          "base_uri": "https://localhost:8080/"
        },
        "id": "nWnUTEJ3vvwJ",
        "outputId": "78a93e0d-1690-47cf-e18d-c2109582b6cd"
      },
      "execution_count": null,
      "outputs": [
        {
          "output_type": "stream",
          "name": "stdout",
          "text": [
            "11\n",
            "10987654321\n",
            "46\n"
          ]
        }
      ]
    },
    {
      "cell_type": "markdown",
      "source": [
        "##알파벳 찾기"
      ],
      "metadata": {
        "id": "wxFub4Snx89n"
      }
    },
    {
      "cell_type": "code",
      "source": [
        "S = input()\n",
        "for i in range(ord('a'), ord('z')+1):\n",
        "  for j in range(len(S)):\n",
        "    if chr(i)==S[j]:\n",
        "      print(j, end=' ')\n",
        "      break\n",
        "  else:\n",
        "    print(-1, end=' ')"
      ],
      "metadata": {
        "colab": {
          "base_uri": "https://localhost:8080/"
        },
        "id": "Gnm6vYGkyGJd",
        "outputId": "80393e83-784b-47fe-8319-4b57ff55c1fc"
      },
      "execution_count": null,
      "outputs": [
        {
          "output_type": "stream",
          "name": "stdout",
          "text": [
            "baekjoon\n",
            "1 0 -1 -1 2 -1 -1 -1 -1 4 3 -1 -1 7 5 -1 -1 -1 -1 -1 -1 -1 -1 -1 -1 -1 "
          ]
        }
      ]
    },
    {
      "cell_type": "code",
      "source": [
        "S = input()\n",
        "alpha = 'abcdefghijklmnopqrstuvwxyz'\n",
        "for ltr in alpha:\n",
        "  print(S.find(ltr), end=' ') # .find()로 전체문자열에서 부분문자열이 시작하는 인덱스를 찾아서 반환, 없으면 -1"
      ],
      "metadata": {
        "colab": {
          "base_uri": "https://localhost:8080/"
        },
        "id": "HNQe75rf54Ie",
        "outputId": "a2334dd1-ee42-4270-a186-4e2cb01ba3c7"
      },
      "execution_count": null,
      "outputs": [
        {
          "output_type": "stream",
          "name": "stdout",
          "text": [
            "baekjoon\n",
            "1 0 -1 -1 2 -1 -1 -1 -1 4 3 -1 -1 7 5 -1 -1 -1 -1 -1 -1 -1 -1 -1 -1 -1 "
          ]
        }
      ]
    },
    {
      "cell_type": "code",
      "source": [
        "# 연습\n",
        "print('i love you'.find(''), 'i love you'.find(' '))\n",
        "print('i love you'.find('o'), 'i love you'.find('ou'))\n",
        "print('i love you'.find('i'), 'i love you'.find('u'))\n",
        "print('i love you'.find('e y'), 'i love you'.find('    '))\n",
        "print('i love you'.find('iloveyou'), 'i love you'.find('us'))\n",
        "len('i love you') == 'i love you'.find('u') - 'i love you'.find('i') + 1"
      ],
      "metadata": {
        "colab": {
          "base_uri": "https://localhost:8080/"
        },
        "id": "tnO2QzrA9hdN",
        "outputId": "547bb766-72b8-4086-e985-173bc7063bc5"
      },
      "execution_count": null,
      "outputs": [
        {
          "output_type": "stream",
          "name": "stdout",
          "text": [
            "0 1\n",
            "3 8\n",
            "0 9\n",
            "5 -1\n",
            "-1 -1\n"
          ]
        },
        {
          "output_type": "execute_result",
          "data": {
            "text/plain": [
              "True"
            ]
          },
          "metadata": {},
          "execution_count": 145
        }
      ]
    },
    {
      "cell_type": "markdown",
      "source": [
        "## 문자열 반복"
      ],
      "metadata": {
        "id": "NaBNY88DzrLw"
      }
    },
    {
      "cell_type": "code",
      "source": [
        "for t in range(int(input())):\n",
        "  R, S = input().split()\n",
        "  for c in S:\n",
        "    print(c*int(R), end='')\n",
        "  print()"
      ],
      "metadata": {
        "colab": {
          "base_uri": "https://localhost:8080/"
        },
        "id": "SzzZRsuiX7vI",
        "outputId": "cbc7bf6c-6891-4f62-fe8c-4c5d6d56e7f8"
      },
      "execution_count": null,
      "outputs": [
        {
          "output_type": "stream",
          "name": "stdout",
          "text": [
            "2\n",
            "3 ABC\n",
            "AAABBBCCC\n",
            "5 /HTP\n",
            "/////HHHHHTTTTTPPPPP\n"
          ]
        }
      ]
    },
    {
      "cell_type": "code",
      "source": [
        "T = int(input())\n",
        "for i in range(T):\n",
        "  R, S = input().split()\n",
        "  for c in S:\n",
        "    for r in range(int(R)):\n",
        "      print(c, end='')\n",
        "  print('')"
      ],
      "metadata": {
        "colab": {
          "base_uri": "https://localhost:8080/"
        },
        "id": "3HwbUh4-BoG5",
        "outputId": "90be8a2b-f002-42e9-ff46-493e7e30902e"
      },
      "execution_count": null,
      "outputs": [
        {
          "output_type": "stream",
          "name": "stdout",
          "text": [
            "2\n",
            "3 ABC\n",
            "AAABBBCCC\n",
            "5 /HTP\n",
            "/////HHHHHTTTTTPPPPP\n"
          ]
        }
      ]
    },
    {
      "cell_type": "markdown",
      "source": [
        "##단어 공부"
      ],
      "metadata": {
        "id": "n6Gx_sv5Z7Db"
      }
    },
    {
      "cell_type": "code",
      "source": [
        "W, n = input().upper(), 0\n",
        "for c in map(chr, range(ord('A'), ord('Z')+1)): # A~Z 탐색\n",
        "  k = W.count(c)\n",
        "  if n<k:\n",
        "    m, n = c, k\n",
        "  elif n==k:\n",
        "    m = '?'\n",
        "print(m)"
      ],
      "metadata": {
        "colab": {
          "base_uri": "https://localhost:8080/"
        },
        "id": "YF9vPXN-nGa4",
        "outputId": "4c8c3944-0238-42ad-db83-8c10a9329eb4"
      },
      "execution_count": null,
      "outputs": [
        {
          "output_type": "stream",
          "name": "stdout",
          "text": [
            "zaz\n",
            "Z\n"
          ]
        }
      ]
    },
    {
      "cell_type": "code",
      "source": [
        "W = input().upper()\n",
        "ltr = list(set(W)) # 알파벳의 종류\n",
        "ln = [] # 알파벳의 종류별 빈도\n",
        "for c in ltr:\n",
        "  ln.append(W.count(c)) # ltr과 ln의 인덱스가 일치\n",
        "if ln.count(max(ln)) > 1:\n",
        "  print('?')\n",
        "else:\n",
        "  print(ltr[ln.index(max(ln))]) # 최대 빈도의 인덱스에 대응되는 알파벳의 종류"
      ],
      "metadata": {
        "colab": {
          "base_uri": "https://localhost:8080/"
        },
        "id": "KUAKbCwkZ9RW",
        "outputId": "a9ee0e58-2de6-4382-cef5-19c228211765"
      },
      "execution_count": null,
      "outputs": [
        {
          "output_type": "stream",
          "name": "stdout",
          "text": [
            "baaa\n",
            "A\n"
          ]
        }
      ]
    },
    {
      "cell_type": "code",
      "source": [
        "W = input().upper()\n",
        "ltr = list(set(W))\n",
        "ln = []\n",
        "for c in ltr:\n",
        "  ln.append(W.count(c))\n",
        "print(ltr[ln.index(max(ln))] if ln.count(max(ln))==1 else '?')"
      ],
      "metadata": {
        "colab": {
          "base_uri": "https://localhost:8080/"
        },
        "id": "AByYngOrk7jk",
        "outputId": "6099160d-8085-4c12-9bc1-3cbb3e9bae98"
      },
      "execution_count": null,
      "outputs": [
        {
          "output_type": "stream",
          "name": "stdout",
          "text": [
            "zZa\n",
            "Z\n"
          ]
        }
      ]
    },
    {
      "cell_type": "markdown",
      "source": [
        "##단어의 개수"
      ],
      "metadata": {
        "id": "Sevmr-TVq8v0"
      }
    },
    {
      "cell_type": "code",
      "source": [
        "print(len(input().split()))"
      ],
      "metadata": {
        "colab": {
          "base_uri": "https://localhost:8080/"
        },
        "id": "dE59krKIGMdI",
        "outputId": "54813ab3-7c68-4a97-9391-ff43a9ceff05"
      },
      "execution_count": null,
      "outputs": [
        {
          "output_type": "stream",
          "name": "stdout",
          "text": [
            "\n",
            "0\n"
          ]
        }
      ]
    },
    {
      "cell_type": "code",
      "source": [
        "s = input().strip()\n",
        "print(s.count(' ')+1 if s!='' else 0)"
      ],
      "metadata": {
        "colab": {
          "base_uri": "https://localhost:8080/"
        },
        "id": "JIT0XiuOrC_P",
        "outputId": "755756ee-7a2f-4985-dff9-6bc8a761fe6e"
      },
      "execution_count": null,
      "outputs": [
        {
          "output_type": "stream",
          "name": "stdout",
          "text": [
            "a bvl k k\n",
            "4\n"
          ]
        }
      ]
    },
    {
      "cell_type": "markdown",
      "source": [
        "##상수"
      ],
      "metadata": {
        "id": "4Bk1-CzqcYoz"
      }
    },
    {
      "cell_type": "code",
      "source": [
        "print(max(input()[::-1].split()))"
      ],
      "metadata": {
        "colab": {
          "base_uri": "https://localhost:8080/"
        },
        "id": "CBw03tLbh5El",
        "outputId": "620d5d43-1bb0-4ebd-b5c6-2378e9079944"
      },
      "execution_count": null,
      "outputs": [
        {
          "output_type": "stream",
          "name": "stdout",
          "text": [
            "839 237\n",
            "938\n"
          ]
        }
      ]
    },
    {
      "cell_type": "code",
      "source": [
        "A = ''.join(reversed(input())).split()\n",
        "print(max(A))"
      ],
      "metadata": {
        "colab": {
          "base_uri": "https://localhost:8080/"
        },
        "id": "dOio0iDtpr65",
        "outputId": "7523978e-e1d2-46e6-8e92-6e60c3e27903"
      },
      "execution_count": null,
      "outputs": [
        {
          "output_type": "stream",
          "name": "stdout",
          "text": [
            "839 237\n",
            "938\n"
          ]
        }
      ]
    },
    {
      "cell_type": "code",
      "source": [
        "s = ''\n",
        "for c in input():\n",
        "  s = c + s\n",
        "print(max(s.split()))"
      ],
      "metadata": {
        "colab": {
          "base_uri": "https://localhost:8080/"
        },
        "id": "MlE1DHHqcdoh",
        "outputId": "1839773f-ca1f-4e5c-c797-1d314aefe661"
      },
      "execution_count": null,
      "outputs": [
        {
          "output_type": "stream",
          "name": "stdout",
          "text": [
            "123 445\n",
            "544\n"
          ]
        }
      ]
    },
    {
      "cell_type": "markdown",
      "source": [
        "## 다이얼"
      ],
      "metadata": {
        "id": "XICUGaJor6Qn"
      }
    },
    {
      "cell_type": "code",
      "source": [
        "t = 0\n",
        "for c in input():\n",
        "  if ord(c)<ord('D'):\n",
        "    t += 3\n",
        "  elif ord(c)<ord('G'):\n",
        "    t += 4\n",
        "  elif ord(c)<ord('J'):\n",
        "    t += 5\n",
        "  elif ord(c)<ord('M'):\n",
        "    t += 6\n",
        "  elif ord(c)<ord('P'):\n",
        "    t += 7\n",
        "  elif ord(c)<ord('T'):\n",
        "    t += 8\n",
        "  elif ord(c)<ord('W'):\n",
        "    t += 9\n",
        "  else:\n",
        "    t += 10\n",
        "print(t)"
      ],
      "metadata": {
        "colab": {
          "base_uri": "https://localhost:8080/"
        },
        "id": "rqNwxWGur_36",
        "outputId": "16636041-b2ce-41f9-9b3a-e2165af6a6a9"
      },
      "execution_count": null,
      "outputs": [
        {
          "output_type": "stream",
          "name": "stdout",
          "text": [
            "WA\n",
            "13\n"
          ]
        }
      ]
    },
    {
      "cell_type": "code",
      "source": [
        "dial = 'ADGJMPTW'\n",
        "t = 0\n",
        "for c in input():\n",
        "  for d in range(len(dial)-1):\n",
        "    if dial[d]<=c<dial[d+1]:\n",
        "      t += d+3\n",
        "  if c in 'WXYZ':\n",
        "    t += 10\n",
        "print(t)"
      ],
      "metadata": {
        "colab": {
          "base_uri": "https://localhost:8080/"
        },
        "id": "To7nsv5YC-rd",
        "outputId": "9d795c0f-6a6d-4c83-8663-d6089a55feb5"
      },
      "execution_count": null,
      "outputs": [
        {
          "output_type": "stream",
          "name": "stdout",
          "text": [
            "UNUCIC\n",
            "36\n"
          ]
        }
      ]
    },
    {
      "cell_type": "code",
      "source": [
        "dial = ['ABC','DEF','GHI','JKL','MNO','PQRS','TUV','WXYZ']\n",
        "s = input()\n",
        "t = 0\n",
        "for i in range(len(s)):\n",
        "  for d in dial:\n",
        "    if s[i] in d:\n",
        "      t += dial.index(d)+3\n",
        "      break\n",
        "print(t)"
      ],
      "metadata": {
        "colab": {
          "base_uri": "https://localhost:8080/"
        },
        "id": "0a-puFzPMpyl",
        "outputId": "5c85488a-0896-421e-c6ee-4488e37d06d6"
      },
      "execution_count": null,
      "outputs": [
        {
          "output_type": "stream",
          "name": "stdout",
          "text": [
            "UNUCIC\n",
            "36\n"
          ]
        }
      ]
    },
    {
      "cell_type": "markdown",
      "source": [
        "## 크로아티아 알파벳"
      ],
      "metadata": {
        "id": "ZUhHzyGLQz9z"
      }
    },
    {
      "cell_type": "code",
      "source": [
        "s = input() # dz=, z=에서 중복되는 경우도 글자 수 측면에서는 잘 처리되어 코드가 무결함\n",
        "print(len(s) - sum(map(s.count, ['c=','c-','dz=','d-','lj','nj','s=','z='])))"
      ],
      "metadata": {
        "colab": {
          "base_uri": "https://localhost:8080/"
        },
        "id": "J5jTAU_zWShT",
        "outputId": "89193ad6-f10d-4465-8226-b669693c50b9"
      },
      "execution_count": null,
      "outputs": [
        {
          "output_type": "stream",
          "name": "stdout",
          "text": [
            "ddz=z=\n",
            "3\n"
          ]
        }
      ]
    },
    {
      "cell_type": "code",
      "source": [
        "f = input().count # len(str)=str.count('')-1\n",
        "print(f('')-1 - sum(map(f, ['c=','c-','dz=','d-','lj','nj','s=','z='])))"
      ],
      "metadata": {
        "colab": {
          "base_uri": "https://localhost:8080/"
        },
        "id": "IYKKeFNvoCaZ",
        "outputId": "14b881e4-85c6-455a-a7f0-6010700ce40c"
      },
      "execution_count": null,
      "outputs": [
        {
          "output_type": "stream",
          "name": "stdout",
          "text": [
            "ddz=z=\n",
            "3\n"
          ]
        }
      ]
    },
    {
      "cell_type": "code",
      "source": [
        "s = input()\n",
        "ln = len(s)\n",
        "for c in ['c=','c-','dz=','d-','lj','nj','s=','z=']:\n",
        "  ln -= s.count(c)\n",
        "print(ln)"
      ],
      "metadata": {
        "colab": {
          "base_uri": "https://localhost:8080/"
        },
        "id": "DLFY3d_bQ5t6",
        "outputId": "81f1b55a-f64f-4ef3-bd46-6da6157ffd53"
      },
      "execution_count": null,
      "outputs": [
        {
          "output_type": "stream",
          "name": "stdout",
          "text": [
            "ddz=z=\n",
            "3\n"
          ]
        }
      ]
    },
    {
      "cell_type": "markdown",
      "source": [
        "## 그룹 단어 체커"
      ],
      "metadata": {
        "id": "QpEyZciirvAQ"
      }
    },
    {
      "cell_type": "code",
      "source": [
        "# 그룹 단어가 아님 <=> 어떤 문자에 대해, 직전 문자와 다르면서 전전까지의 문자열에 이미 나온 경우\n",
        "n = int(input())\n",
        "for i in range(n):\n",
        "  s = input()\n",
        "  for j in range(len(s)-1):\n",
        "    if s[j]!=s[j+1] and s[j+1] in s[:j]:\n",
        "      n -= 1\n",
        "      break\n",
        "print(n)"
      ],
      "metadata": {
        "colab": {
          "base_uri": "https://localhost:8080/"
        },
        "id": "hkubkI3jrxOB",
        "outputId": "8b7c675f-ca8b-4f58-a4a2-fc156224582b"
      },
      "execution_count": null,
      "outputs": [
        {
          "output_type": "stream",
          "name": "stdout",
          "text": [
            "1\n",
            "z\n",
            "1\n"
          ]
        }
      ]
    },
    {
      "cell_type": "code",
      "source": [
        "# 그룹 단어 <=> 모든 문자에 대해, 이미 나온 문자가 다시 나오지 않거나 나오더라도 이웃한 경우\n",
        "# 즉, 각 문자에 대해 str.find()로 찾은 처음 나오는 위치를 기준으로 정렬했을 때 배열이 보존되면 그룹 단어\n",
        "n = 0\n",
        "for i in range(int(input())):\n",
        "  s = input()\n",
        "  if list(s)==sorted(s, key=s.find):\n",
        "    n += 1\n",
        "print(n)"
      ],
      "metadata": {
        "colab": {
          "base_uri": "https://localhost:8080/"
        },
        "id": "MljtSjiqkE4D",
        "outputId": "0a57f433-e086-4f0b-87f4-cfbafd210d47"
      },
      "execution_count": null,
      "outputs": [
        {
          "output_type": "stream",
          "name": "stdout",
          "text": [
            "4\n",
            "aba\n",
            "abab\n",
            "abcabc\n",
            "a\n",
            "1\n"
          ]
        }
      ]
    },
    {
      "cell_type": "markdown",
      "source": [
        "# 기본 수학 1"
      ],
      "metadata": {
        "id": "43R5O87kwawv"
      }
    },
    {
      "cell_type": "markdown",
      "source": [
        "## 손익분기점"
      ],
      "metadata": {
        "id": "6f6OD7kAwqhA"
      }
    },
    {
      "cell_type": "code",
      "source": [
        "A, B, C = map(int, input().split())\n",
        "print(A//(C-B)+1 if C>B else -1)"
      ],
      "metadata": {
        "colab": {
          "base_uri": "https://localhost:8080/"
        },
        "id": "OgATFSPtwt0C",
        "outputId": "25c9a9ee-19c4-4c4b-9eb6-d98ad4f11024"
      },
      "execution_count": null,
      "outputs": [
        {
          "output_type": "stream",
          "name": "stdout",
          "text": [
            "2100000000 9 10\n",
            "2100000001\n"
          ]
        }
      ]
    },
    {
      "cell_type": "markdown",
      "source": [
        "## 벌집"
      ],
      "metadata": {
        "id": "mg57PFBCtOdJ"
      }
    },
    {
      "cell_type": "code",
      "source": [
        "# 2, 8, 20, 38, 62, ... 계차수열: a_n = 2 + sum(6*k for k in range(n))\n",
        "N = int(input())\n",
        "n = 1\n",
        "while 3*(n-1)*n<=N-2:\n",
        "  n += 1\n",
        "print(n)"
      ],
      "metadata": {
        "colab": {
          "base_uri": "https://localhost:8080/"
        },
        "id": "a2YAuvVx7YGT",
        "outputId": "dc85ebed-0d77-486c-f173-ec82e39fff2c"
      },
      "execution_count": null,
      "outputs": [
        {
          "output_type": "stream",
          "name": "stdout",
          "text": [
            "1\n",
            "1\n"
          ]
        }
      ]
    },
    {
      "cell_type": "code",
      "source": [
        "N = int(input())\n",
        "n = 1\n",
        "while N!=1:\n",
        "  if 3*(n-1)*n<=N-2<3*n*(n+1):\n",
        "    n += 1\n",
        "    break\n",
        "  n += 1\n",
        "print(n)"
      ],
      "metadata": {
        "colab": {
          "base_uri": "https://localhost:8080/"
        },
        "id": "mceID5UotRyv",
        "outputId": "513a2310-4319-4328-ae4a-feacba48f23f"
      },
      "execution_count": null,
      "outputs": [
        {
          "output_type": "stream",
          "name": "stdout",
          "text": [
            "58\n",
            "5\n"
          ]
        }
      ]
    },
    {
      "cell_type": "markdown",
      "source": [
        "## 분수찾기"
      ],
      "metadata": {
        "id": "upF5H5YU_w9O"
      }
    },
    {
      "cell_type": "code",
      "source": [
        "X = int(input())\n",
        "n = 1\n",
        "while X>n*(n+1)/2:\n",
        "  n += 1\n",
        "p = X-(n-1)*n/2\n",
        "print('%d/%d'%(n+1-p,p)[::n%2*2-1])"
      ],
      "metadata": {
        "colab": {
          "base_uri": "https://localhost:8080/"
        },
        "id": "GVWhPbLp_zAc",
        "outputId": "df2f0a1c-b700-493f-82d5-daeef5344891"
      },
      "execution_count": null,
      "outputs": [
        {
          "output_type": "stream",
          "name": "stdout",
          "text": [
            "14\n",
            "2/4\n"
          ]
        }
      ]
    },
    {
      "cell_type": "code",
      "source": [
        "X = int(input())\n",
        "l = 0\n",
        "while X>0:\n",
        "  l += 1\n",
        "  X -= l\n",
        "print('%d/%d'%(1-X,l+X)[::l%2*2-1])"
      ],
      "metadata": {
        "colab": {
          "base_uri": "https://localhost:8080/"
        },
        "id": "GqIfA1c8JYfv",
        "outputId": "4afe0792-e170-4ccc-efc7-c3af3c863c24"
      },
      "execution_count": null,
      "outputs": [
        {
          "output_type": "stream",
          "name": "stdout",
          "text": [
            "14\n",
            "2/4\n"
          ]
        }
      ]
    },
    {
      "cell_type": "markdown",
      "source": [
        "## 달팽이는 올라가고 싶다"
      ],
      "metadata": {
        "id": "iNSYOAf-R4Yu"
      }
    },
    {
      "cell_type": "code",
      "source": [
        "import math \n",
        "A, B, V = map(int, input().split())\n",
        "print(math.ceil((V-B)/(A-B))) # floor: 최대정수함수(가우스) / ceil: 최소정수함수"
      ],
      "metadata": {
        "colab": {
          "base_uri": "https://localhost:8080/"
        },
        "id": "ZXfsTCNJnND5",
        "outputId": "e44ceb49-67fc-4c6a-b8a9-8ae56bb2d893"
      },
      "execution_count": null,
      "outputs": [
        {
          "output_type": "stream",
          "name": "stdout",
          "text": [
            "100 99 1000000000\n",
            "999999901\n"
          ]
        }
      ]
    },
    {
      "cell_type": "code",
      "source": [
        "A, B, V = map(int, input().split())\n",
        "n = (V-B)/(A-B)\n",
        "print(int(n) if int(n)==n else int(n)+1)"
      ],
      "metadata": {
        "colab": {
          "base_uri": "https://localhost:8080/"
        },
        "id": "hfaHlGZe3jtn",
        "outputId": "6cb13a6e-394a-4b1b-84ee-063d0098994d"
      },
      "execution_count": null,
      "outputs": [
        {
          "output_type": "stream",
          "name": "stdout",
          "text": [
            "5 1 6\n",
            "2\n"
          ]
        }
      ]
    },
    {
      "cell_type": "code",
      "source": [
        "# 시간 초과!!!\n",
        "A, B, V = map(int, input().split())\n",
        "n = 1\n",
        "W = A\n",
        "while W<V:\n",
        "  W -= (B-A)\n",
        "  n += 1\n",
        "print(n)"
      ],
      "metadata": {
        "colab": {
          "base_uri": "https://localhost:8080/"
        },
        "id": "EqbCBWavSAHF",
        "outputId": "b1d8ae4a-4852-4522-b6b4-82707f1a7224"
      },
      "execution_count": null,
      "outputs": [
        {
          "output_type": "stream",
          "name": "stdout",
          "text": [
            "100 99 1000000000\n",
            "999999901\n"
          ]
        }
      ]
    },
    {
      "cell_type": "markdown",
      "source": [
        "## ACM 호텔"
      ],
      "metadata": {
        "id": "q13efvSO56eU"
      }
    },
    {
      "cell_type": "code",
      "source": [
        "import sys\n",
        "for t in range(int(sys.stdin.readline())):\n",
        "  H, W, N = map(int, sys.stdin.readline().split())\n",
        "  print('%d%02d'%((N-1)%H+1, (N-1)//H+1))"
      ],
      "metadata": {
        "id": "i5b_5Ld-iw-r"
      },
      "execution_count": null,
      "outputs": []
    },
    {
      "cell_type": "code",
      "source": [
        "for _ in range(int(input())):\n",
        "  H, W, N = map(int, input().split())\n",
        "  print(f'{(N-1)%H+1}{(N-1)//H+1:02d}')"
      ],
      "metadata": {
        "colab": {
          "base_uri": "https://localhost:8080/"
        },
        "id": "H_NuMu5C2hkT",
        "outputId": "56a700e4-07c3-4530-e6fd-558e6c7922c3"
      },
      "execution_count": null,
      "outputs": [
        {
          "output_type": "stream",
          "name": "stdout",
          "text": [
            "1\n",
            "6 12 72\n",
            "612\n"
          ]
        }
      ]
    },
    {
      "cell_type": "code",
      "source": [
        "for i in range(int(input())):\n",
        "  H, W, N = map(int, input().split())\n",
        "  fl = H if N%H==0 else N%H\n",
        "  un = N//H if N%H==0 else N//H+1\n",
        "  print(f'{fl}{un:02d}')"
      ],
      "metadata": {
        "colab": {
          "base_uri": "https://localhost:8080/"
        },
        "id": "5-1ArNt613bO",
        "outputId": "4661d574-0186-4a5d-a7eb-8f7a3cce79cb"
      },
      "execution_count": null,
      "outputs": [
        {
          "output_type": "stream",
          "name": "stdout",
          "text": [
            "1\n",
            "6 12 72\n",
            "612\n"
          ]
        }
      ]
    },
    {
      "cell_type": "code",
      "source": [
        "for i in range(int(input())):\n",
        "  H, W, N = map(int, input().split())\n",
        "  fl = (N-1)%H+1\n",
        "  un = (N-1)//H+1\n",
        "  print(f'{fl}{un:02d}')"
      ],
      "metadata": {
        "colab": {
          "base_uri": "https://localhost:8080/"
        },
        "id": "IfyDKyBR2QjN",
        "outputId": "7514d2ed-7b43-4082-c397-0d559235497b"
      },
      "execution_count": null,
      "outputs": [
        {
          "output_type": "stream",
          "name": "stdout",
          "text": [
            "1\n",
            "6 12 72\n",
            "612\n"
          ]
        }
      ]
    },
    {
      "cell_type": "code",
      "source": [
        "for i in range(int(input())):\n",
        "  H, W, N = map(int, input().split())\n",
        "  fl = H if N%H==0 else N%H\n",
        "  un = N//H if N%H==0 else N//H+1\n",
        "  print(f'{fl}0{un}' if un//10==0 else f'{fl}{un}')"
      ],
      "metadata": {
        "colab": {
          "base_uri": "https://localhost:8080/"
        },
        "id": "pz9Mv29z6AUc",
        "outputId": "6e85ca72-198b-46c7-eb5a-a0662bd084c6"
      },
      "execution_count": null,
      "outputs": [
        {
          "output_type": "stream",
          "name": "stdout",
          "text": [
            "1\n",
            "6 12 72\n",
            "612\n"
          ]
        }
      ]
    },
    {
      "cell_type": "markdown",
      "source": [
        "## 부녀회장이 될테야"
      ],
      "metadata": {
        "id": "1rvqGSV73IpC"
      }
    },
    {
      "cell_type": "code",
      "source": [
        "for _ in range(int(input())):\n",
        "  k = int(input())\n",
        "  n = int(input())\n",
        "  p = [i for i in range(1,n+1)]\n",
        "  for j in range(k):\n",
        "    for l in range(1,n):\n",
        "      p[l] += p[l-1]\n",
        "  print(p[-1])"
      ],
      "metadata": {
        "colab": {
          "base_uri": "https://localhost:8080/"
        },
        "id": "jPnj4z6fwY6n",
        "outputId": "7c2216fe-bab4-43bc-ff08-1c4256c466de"
      },
      "execution_count": null,
      "outputs": [
        {
          "output_type": "stream",
          "name": "stdout",
          "text": [
            "2\n",
            "1\n",
            "3\n",
            "6\n",
            "2\n",
            "3\n",
            "10\n"
          ]
        }
      ]
    },
    {
      "cell_type": "code",
      "source": [
        "# 0층 i호: i명 \n",
        "# 1층 1호: 1명, 1층 2호: 1+2명, 1층 3호: 1+2+3명 ... => 1층 i호: i(i+1)/2명 \n",
        "# 2층 1호: 1명, 2층 2호: 1+(1+2)명, ...\n",
        "# => 2층 i호: 1+(1+2)+...+(1+2+...+i)명 = sum(i(i+1)/2 for i in range(1,i+1))\n",
        "# k층 n호: ?명\n",
        "def f(k,n): # 재귀적으로 정의\n",
        "  if k==0:\n",
        "    return n\n",
        "  else:\n",
        "    return sum(f(k-1,i) for i in range(1,n+1))\n",
        "for _ in range(int(input())):\n",
        "  k = int(input())\n",
        "  n = int(input())\n",
        "  print(f(k,n))\n",
        "# 시간 초과!!!"
      ],
      "metadata": {
        "colab": {
          "base_uri": "https://localhost:8080/"
        },
        "id": "fWoCs7pY3Hsa",
        "outputId": "01a11dfb-5ddd-4f67-c3bb-16222b691074"
      },
      "execution_count": null,
      "outputs": [
        {
          "output_type": "stream",
          "name": "stdout",
          "text": [
            "2\n",
            "1\n",
            "3\n",
            "6\n",
            "2\n",
            "3\n",
            "10\n"
          ]
        }
      ]
    },
    {
      "cell_type": "markdown",
      "source": [
        "## 설탕 배달"
      ],
      "metadata": {
        "id": "b1cMBOpm_LhK"
      }
    },
    {
      "cell_type": "code",
      "source": [
        "N = int(input())\n",
        "c = 0\n",
        "while True:\n",
        "  if N%5==0:\n",
        "    c += N//5\n",
        "    print(c)\n",
        "    break\n",
        "  N -= 3\n",
        "  c += 1\n",
        "  if N<0:\n",
        "    print(-1)\n",
        "    break"
      ],
      "metadata": {
        "colab": {
          "base_uri": "https://localhost:8080/"
        },
        "id": "pAtNRfyZ_RMK",
        "outputId": "e55b4c21-ff1d-447f-866a-9853900d94a6"
      },
      "execution_count": null,
      "outputs": [
        {
          "output_type": "stream",
          "name": "stdout",
          "text": [
            "11\n",
            "3\n"
          ]
        }
      ]
    },
    {
      "cell_type": "code",
      "source": [
        "N = int(input())\n",
        "n = -1\n",
        "for t in range(N//3+1):\n",
        "  for s in range(N//5+1):\n",
        "    if 5*s+3*t==N:\n",
        "      n = s+t\n",
        "      break\n",
        "  if n!=-1:\n",
        "    break\n",
        "print(n)"
      ],
      "metadata": {
        "colab": {
          "base_uri": "https://localhost:8080/"
        },
        "id": "arDhp5-UMT5E",
        "outputId": "67abe8e9-0526-4cff-eda1-bb7413a85cc4"
      },
      "execution_count": null,
      "outputs": [
        {
          "output_type": "stream",
          "name": "stdout",
          "text": [
            "11\n",
            "3\n"
          ]
        }
      ]
    },
    {
      "cell_type": "markdown",
      "source": [
        "## 큰 수 A+B"
      ],
      "metadata": {
        "id": "YnF5c8G9ZFnP"
      }
    },
    {
      "cell_type": "code",
      "source": [
        "# 파이썬이라 문제가 별 의미 없음\n",
        "print(sum(map(int, input().split())))"
      ],
      "metadata": {
        "colab": {
          "base_uri": "https://localhost:8080/"
        },
        "id": "UrFQu9MNZMHG",
        "outputId": "1ff51795-2189-440c-ab73-b2ab1ff7d382"
      },
      "execution_count": null,
      "outputs": [
        {
          "output_type": "stream",
          "name": "stdout",
          "text": [
            "1234 4321\n",
            "5555\n"
          ]
        }
      ]
    },
    {
      "cell_type": "markdown",
      "source": [
        "# 기본 수학 2"
      ],
      "metadata": {
        "id": "AcOhBTRVaNp2"
      }
    },
    {
      "cell_type": "markdown",
      "source": [
        "## 소수 찾기"
      ],
      "metadata": {
        "id": "qVscjVLxaPdQ"
      }
    },
    {
      "cell_type": "code",
      "source": [
        "N = int(input())\n",
        "nl = list(map(int, input().split()))\n",
        "for n in nl:\n",
        "  if n==1 or any(n%k==0 for k in range(2,n)):\n",
        "    N -= 1\n",
        "print(N)"
      ],
      "metadata": {
        "colab": {
          "base_uri": "https://localhost:8080/"
        },
        "id": "4x26BdEwaRZn",
        "outputId": "bb07da09-4cd8-40f5-9a6e-23c97698538a"
      },
      "execution_count": null,
      "outputs": [
        {
          "output_type": "stream",
          "name": "stdout",
          "text": [
            "5\n",
            "1 3 61 11 23\n",
            "4\n"
          ]
        }
      ]
    },
    {
      "cell_type": "code",
      "source": [
        "N = int(input())\n",
        "nl = list(map(int, input().split()))\n",
        "for n in nl:\n",
        "  if n!=1 and all(n%k!=0 for k in range(2,n)):\n",
        "    N += 1\n",
        "print(N-len(nl))"
      ],
      "metadata": {
        "colab": {
          "base_uri": "https://localhost:8080/"
        },
        "id": "PmMMkFDZfjZU",
        "outputId": "579151ca-1209-4d76-d69f-7e97b99a00cb"
      },
      "execution_count": null,
      "outputs": [
        {
          "output_type": "stream",
          "name": "stdout",
          "text": [
            "10\n",
            "1 2 3 4 5 6 7 8 9 10\n",
            "4\n"
          ]
        }
      ]
    },
    {
      "cell_type": "markdown",
      "source": [
        "## 소수"
      ],
      "metadata": {
        "id": "8A_kdePPlNbY"
      }
    },
    {
      "cell_type": "code",
      "source": [
        "M = int(input())\n",
        "N = int(input())\n",
        "pl = []\n",
        "for n in range(M,N+1):\n",
        "  if n!=1 and all(n%d!=0 for d in range(2,n)):\n",
        "    pl.append(n)\n",
        "if len(pl)!=0:\n",
        "  print(sum(pl), min(pl), sep='\\n')\n",
        "else:\n",
        "  print(-1)"
      ],
      "metadata": {
        "colab": {
          "base_uri": "https://localhost:8080/"
        },
        "id": "FCOlhyILlMLN",
        "outputId": "9aa12a23-33be-40c8-ef5b-5e951383165d"
      },
      "execution_count": null,
      "outputs": [
        {
          "output_type": "stream",
          "name": "stdout",
          "text": [
            "64\n",
            "65\n",
            "-1\n"
          ]
        }
      ]
    },
    {
      "cell_type": "markdown",
      "source": [
        "## 소인수분해"
      ],
      "metadata": {
        "id": "JYlYjF8BZZmX"
      }
    },
    {
      "cell_type": "code",
      "source": [
        "N = int(input())\n",
        "i = 2\n",
        "while N!=1:\n",
        "  if N%i==0:\n",
        "    N /= i\n",
        "    print(i)\n",
        "  else:\n",
        "    i += 1"
      ],
      "metadata": {
        "colab": {
          "base_uri": "https://localhost:8080/"
        },
        "id": "EtI6492Ui13r",
        "outputId": "4294932e-023e-440b-b838-c96848f25b80"
      },
      "execution_count": null,
      "outputs": [
        {
          "output_type": "stream",
          "name": "stdout",
          "text": [
            "72\n",
            "2\n",
            "2\n",
            "2\n",
            "3\n",
            "3\n"
          ]
        }
      ]
    },
    {
      "cell_type": "code",
      "source": [
        "N = int(input())\n",
        "if N!=1:\n",
        "  for d in range(2,N+1):\n",
        "    if N%d==0 and all(d%k!=0 for k in range(2,d)):\n",
        "      i=1\n",
        "      while N%(d**i)==0:\n",
        "        i += 1\n",
        "      for _ in range(i-1):\n",
        "        print(d)"
      ],
      "metadata": {
        "colab": {
          "base_uri": "https://localhost:8080/"
        },
        "id": "8AYv8xRMZapt",
        "outputId": "23197786-cdc5-4028-9262-1bde6f529f1a"
      },
      "execution_count": null,
      "outputs": [
        {
          "output_type": "stream",
          "name": "stdout",
          "text": [
            "9991\n",
            "97\n",
            "103\n"
          ]
        }
      ]
    },
    {
      "cell_type": "markdown",
      "source": [
        "## 소수 구하기"
      ],
      "metadata": {
        "id": "ieNXqLdViLpu"
      }
    },
    {
      "cell_type": "code",
      "source": [
        "# 에라토스테네스의 체: 소수성을 판별할 때, 그 수의 제곱근까지만 약수가 아닌 것을 확인하면 된다\n",
        "M, N = map(int, input().split())\n",
        "for n in range(M,N+1):\n",
        "  if n!=1 and all(n%d!=0 for d in range(2,int(n**0.5)+1)): # 에라토스테네스의 체\n",
        "    print(n)"
      ],
      "metadata": {
        "colab": {
          "base_uri": "https://localhost:8080/"
        },
        "id": "qRV5WB-8iM9S",
        "outputId": "566728f1-88e1-413d-c903-261a005b8056"
      },
      "execution_count": null,
      "outputs": [
        {
          "output_type": "stream",
          "name": "stdout",
          "text": [
            "3 16\n",
            "3\n",
            "5\n",
            "7\n",
            "11\n",
            "13\n"
          ]
        }
      ]
    },
    {
      "cell_type": "markdown",
      "source": [
        "## 베르트랑 공준"
      ],
      "metadata": {
        "id": "Wimlg3JKncpI"
      }
    },
    {
      "cell_type": "code",
      "source": [
        "# pl에 2부터 123456*2까지의 소수들을 미리 찾아 저장한 후 입력마다 해당하는 개수만 세어준다\n",
        "pl = []\n",
        "for k in range(2,123456*2+1):\n",
        "  if all(k%d!=0 for d in range(2,int(k**0.5)+1)):\n",
        "    pl.append(k)\n",
        "while 1:\n",
        "  n = int(input())\n",
        "  if n==0:\n",
        "    break\n",
        "  print(sum(n<p<=2*n for p in pl))"
      ],
      "metadata": {
        "colab": {
          "base_uri": "https://localhost:8080/"
        },
        "id": "6BfuBZBXAfOx",
        "outputId": "80bff255-1d19-4fb9-901c-cb193cfc755f"
      },
      "execution_count": null,
      "outputs": [
        {
          "name": "stdout",
          "output_type": "stream",
          "text": [
            "100000\n",
            "8392\n",
            "100\n",
            "21\n",
            "1000\n",
            "135\n",
            "1\n",
            "1\n",
            "10\n",
            "4\n",
            "13\n",
            "3\n",
            "0\n"
          ]
        }
      ]
    },
    {
      "cell_type": "code",
      "source": [
        "# 시간 초과!!! (입력마다 소수를 찾는 과정을 반복하여 이전에 찾아둔 소수를 이용하지 못함)\n",
        "n = int(input())\n",
        "while n!=0:\n",
        "  print(sum(all(k%d!=0 for d in range(2,int(k**0.5)+1)) for k in range(n+1,2*n+1)))\n",
        "  n = int(input())"
      ],
      "metadata": {
        "colab": {
          "base_uri": "https://localhost:8080/"
        },
        "id": "vJEpUKBI_tiZ",
        "outputId": "4d6c2822-4769-4e68-9d4f-1be7172c425c"
      },
      "execution_count": null,
      "outputs": [
        {
          "name": "stdout",
          "output_type": "stream",
          "text": [
            "100000\n",
            "8392\n",
            "0\n"
          ]
        }
      ]
    },
    {
      "cell_type": "markdown",
      "source": [
        "## 골드바흐의 추측"
      ],
      "metadata": {
        "id": "6FLzr2GFG9ig"
      }
    },
    {
      "cell_type": "code",
      "source": [
        "def pr(x): # 소수 판별 함수\n",
        "  return True if all(x%d for d in range(2,int(x**0.5)+1)) else False\n",
        "for _ in range(int(input())):\n",
        "  n = int(input())\n",
        "  for p in range(n//2,n-1):\n",
        "    if pr(n-p) and pr(p):\n",
        "      print(n-p, p)\n",
        "      break"
      ],
      "metadata": {
        "colab": {
          "base_uri": "https://localhost:8080/"
        },
        "id": "EAvL8Q3cYSGQ",
        "outputId": "73e9fd6a-86a9-4d33-b2e2-7510bb0cab0d"
      },
      "execution_count": null,
      "outputs": [
        {
          "output_type": "stream",
          "name": "stdout",
          "text": [
            "1\n",
            "10000\n",
            "4919 5081\n"
          ]
        }
      ]
    },
    {
      "cell_type": "code",
      "source": [
        "def pr(x):\n",
        "  return True if all(x%d for d in range(2,int(x**0.5)+1)) else False\n",
        "for _ in range(int(input())):\n",
        "  n = int(input())\n",
        "  p, q = n//2, n//2\n",
        "  while 1:\n",
        "    if pr(p) and pr(q):\n",
        "      print(p, q)\n",
        "      break\n",
        "    else:\n",
        "      p -= 1\n",
        "      q += 1"
      ],
      "metadata": {
        "colab": {
          "base_uri": "https://localhost:8080/"
        },
        "id": "XgvNKFAQZx8j",
        "outputId": "67b60331-e9b1-4732-8643-c5af58452180"
      },
      "execution_count": null,
      "outputs": [
        {
          "output_type": "stream",
          "name": "stdout",
          "text": [
            "1\n",
            "10000\n",
            "4919 5081\n"
          ]
        }
      ]
    },
    {
      "cell_type": "code",
      "source": [
        "pl = [2]\n",
        "for k in range(3,9998,2): # 소수는 2가 아니면 모두 홀수\n",
        "  if all(k%d!=0 for d in range(2,int(k**0.5)+1)):\n",
        "    pl.append(k) # 10000 이하 소수 리스트\n",
        "for _ in range(int(input())):\n",
        "  n = int(input())\n",
        "  for p in pl: # 소수만 탐색\n",
        "    if p>=n/2: # 차이가 가장 작은 소수쌍을 찾기 위해 중간부터 탐색\n",
        "      break\n",
        "  for q in pl[pl.index(p):]:\n",
        "    if n-q in pl:\n",
        "      print(n-q, q)\n",
        "      break"
      ],
      "metadata": {
        "colab": {
          "base_uri": "https://localhost:8080/"
        },
        "id": "fToyg4ekHCZ0",
        "outputId": "4c3c4dcb-2409-4b68-875c-cea6ec58d6d5"
      },
      "execution_count": null,
      "outputs": [
        {
          "output_type": "stream",
          "name": "stdout",
          "text": [
            "1\n",
            "10000\n",
            "4919 5081\n"
          ]
        }
      ]
    },
    {
      "cell_type": "code",
      "source": [
        "def pr(x):\n",
        "  return True if x!=1 and all(x%d for d in range(2,int(x**0.5)+1)) else False\n",
        "for _ in range(int(input())):\n",
        "  n = int(input())\n",
        "  for p,q in zip(range(n//2,0,-1),range(n//2,n,1)):\n",
        "    if pr(p) and pr(q):\n",
        "      print(p, q)\n",
        "      break"
      ],
      "metadata": {
        "colab": {
          "base_uri": "https://localhost:8080/"
        },
        "id": "4D95IlH5LlYF",
        "outputId": "23a9a04e-f6b9-45a5-cba9-32579c59b42a"
      },
      "execution_count": null,
      "outputs": [
        {
          "output_type": "stream",
          "name": "stdout",
          "text": [
            "1\n",
            "10000\n",
            "4919 5081\n"
          ]
        }
      ]
    },
    {
      "cell_type": "code",
      "source": [
        "def pr(t): # 소수쌍 판별 함수\n",
        "  a = all(t[0]%d for d in range(2,int(t[0]**0.5)+1))\n",
        "  b = all(t[1]%e for e in range(2,int(t[1]**0.5)+1))\n",
        "  return True if a and b else False\n",
        "for _ in range(int(input())):\n",
        "  n = int(input())\n",
        "  for z in zip(range(n//2,1,-1),range(n//2,n-1,1)):\n",
        "    if pr(z):\n",
        "      print(*z)\n",
        "      break"
      ],
      "metadata": {
        "colab": {
          "base_uri": "https://localhost:8080/"
        },
        "id": "-jjmW5nWRzRM",
        "outputId": "941c7175-ae12-492c-b551-3b141b3b74d8"
      },
      "execution_count": null,
      "outputs": [
        {
          "output_type": "stream",
          "name": "stdout",
          "text": [
            "1\n",
            "10000\n",
            "4919 5081\n"
          ]
        }
      ]
    },
    {
      "cell_type": "markdown",
      "source": [
        "# 2차원 배열"
      ],
      "metadata": {
        "id": "q9QBr9tRjHQb"
      }
    },
    {
      "cell_type": "markdown",
      "source": [
        "## 행렬 덧셈"
      ],
      "metadata": {
        "id": "znhpSQsejTSM"
      }
    },
    {
      "cell_type": "code",
      "source": [
        "a = [list(map(int, input().split())) for i in [0]*int(input().split()[0])]\n",
        "b = [list(map(int, input().split())) for i in [0]*len(a)]\n",
        "for u,v in zip(a,b):\n",
        "  for x,y in zip(u,v):\n",
        "    print(x+y,end=' ')\n",
        "  print()"
      ],
      "metadata": {
        "colab": {
          "base_uri": "https://localhost:8080/"
        },
        "id": "lUOHNjE-ja4B",
        "outputId": "0039f4da-4ab8-4751-a88e-e1244e86ff50"
      },
      "execution_count": null,
      "outputs": [
        {
          "output_type": "stream",
          "name": "stdout",
          "text": [
            "3 3\n",
            "1 1 1\n",
            "2 2 2\n",
            "0 1 0\n",
            "3 3 3\n",
            "4 4 4\n",
            "5 5 100\n",
            "4 4 4 \n",
            "6 6 6 \n",
            "5 6 100 \n"
          ]
        }
      ]
    },
    {
      "cell_type": "code",
      "source": [
        "n,m = map(int,input().split())\n",
        "a = [list(map(int,input().split())) for _ in range(n)]\n",
        "b = [list(map(int,input().split())) for _ in range(n)]\n",
        "for i in range(n):\n",
        "  for j in range(m):\n",
        "    print(a[i][j]+b[i][j],end=' ')\n",
        "  print()"
      ],
      "metadata": {
        "colab": {
          "base_uri": "https://localhost:8080/"
        },
        "id": "h42LMUyXqTIB",
        "outputId": "7f2c9978-d518-4dbf-9ff1-634ddf566c14"
      },
      "execution_count": null,
      "outputs": [
        {
          "output_type": "stream",
          "name": "stdout",
          "text": [
            "3 3\n",
            "1 1 1\n",
            "2 2 2\n",
            "0 1 0\n",
            "3 3 3\n",
            "4 4 4\n",
            "5 5 100\n",
            "4 4 4 \n",
            "6 6 6 \n",
            "5 6 100 \n"
          ]
        }
      ]
    },
    {
      "cell_type": "markdown",
      "source": [
        "## 최댓값"
      ],
      "metadata": {
        "id": "GTBp96MejbbQ"
      }
    },
    {
      "cell_type": "code",
      "source": [
        "L = sum([list(map(int,input().split())) for _ in range(9)],[])\n",
        "print(g:=max(L))\n",
        "print((r:=L.index(g))//9+1,r%9+1)"
      ],
      "metadata": {
        "colab": {
          "base_uri": "https://localhost:8080/"
        },
        "id": "-fEY8ZCYDYHy",
        "outputId": "51471fb6-e529-4a08-aa9b-7d7efb6cb4c3"
      },
      "execution_count": null,
      "outputs": [
        {
          "output_type": "stream",
          "name": "stdout",
          "text": [
            "3 23 85 34 17 74 25 52 65\n",
            "10 7 39 42 88 52 14 72 63\n",
            "87 42 18 78 53 45 18 84 53\n",
            "34 28 64 85 12 16 75 36 55\n",
            "21 77 45 35 28 75 90 76 1\n",
            "25 87 65 15 28 11 37 28 74\n",
            "65 27 75 41 7 89 78 64 39\n",
            "47 47 70 45 23 65 3 41 44\n",
            "87 13 82 38 31 12 29 29 80\n",
            "90\n",
            "5 7\n"
          ]
        }
      ]
    },
    {
      "cell_type": "code",
      "source": [
        "A = [list(map(int,input().split())) for _ in range(9)]\n",
        "print(g:=max(l:=[max(R) for R in A]))\n",
        "print((r:=l.index(g))+1,A[r].index(g)+1)"
      ],
      "metadata": {
        "colab": {
          "base_uri": "https://localhost:8080/"
        },
        "id": "DayuNjZWjc0P",
        "outputId": "33f61f88-e86b-43c3-93f2-292ad79dd0ad"
      },
      "execution_count": null,
      "outputs": [
        {
          "output_type": "stream",
          "name": "stdout",
          "text": [
            "3 23 85 34 17 74 25 52 65\n",
            "10 7 39 42 88 52 14 72 63\n",
            "87 42 18 78 53 45 18 84 53\n",
            "34 28 64 85 12 16 75 36 55\n",
            "21 77 45 35 28 75 90 76 1\n",
            "25 87 65 15 28 11 37 28 74\n",
            "65 27 75 41 7 89 78 64 39\n",
            "47 47 70 45 23 65 3 41 44\n",
            "87 13 82 38 31 12 29 29 80\n",
            "90\n",
            "5 7\n"
          ]
        }
      ]
    },
    {
      "cell_type": "code",
      "source": [
        "A = [list(map(int,input().split())) for _ in range(9)]\n",
        "v,r,c = max([(g:=max(R),A.index(R)+1,R.index(g)+1) for R in A])\n",
        "print(v)\n",
        "print(r,c)"
      ],
      "metadata": {
        "colab": {
          "base_uri": "https://localhost:8080/"
        },
        "id": "Q_72g7H79Cv-",
        "outputId": "2eb263cc-0f88-4bd6-d4b3-93f3221ff3a1"
      },
      "execution_count": null,
      "outputs": [
        {
          "output_type": "stream",
          "name": "stdout",
          "text": [
            "3 23 85 34 17 74 25 52 65\n",
            "10 7 39 42 88 52 14 72 63\n",
            "87 42 18 78 53 45 18 84 53\n",
            "34 28 64 85 12 16 75 36 55\n",
            "21 77 45 35 28 75 90 76 1\n",
            "25 87 65 15 28 11 37 28 74\n",
            "65 27 75 41 7 89 78 64 39\n",
            "47 47 70 45 23 65 3 41 44\n",
            "87 13 82 38 31 12 29 29 80\n",
            "90\n",
            "5 7\n"
          ]
        }
      ]
    },
    {
      "cell_type": "markdown",
      "source": [
        "## 색종이"
      ],
      "metadata": {
        "id": "hK58K0Kojda1"
      }
    },
    {
      "cell_type": "code",
      "source": [
        "# 0으로만 구성된 100*100 2차원 배열에서 단위면적 1을 채우는 방식으로 접근\n",
        "L = [[0 for _ in range(100)] for _ in range(100)]\n",
        "for i in range(int(input())):\n",
        "  x,y = map(int,input().split())\n",
        "  for i in range(x,x+10):\n",
        "    for j in range(y,y+10):\n",
        "      L[i][j] = 1\n",
        "print(sum(sum(L,[])))"
      ],
      "metadata": {
        "id": "TIgqgc2FXR9c",
        "colab": {
          "base_uri": "https://localhost:8080/"
        },
        "outputId": "f82c73d3-a942-4395-9295-f31281c5b0b0"
      },
      "execution_count": 25,
      "outputs": [
        {
          "output_type": "stream",
          "name": "stdout",
          "text": [
            "3\n",
            "3 7\n",
            "15 7\n",
            "5 2\n",
            "260\n"
          ]
        }
      ]
    },
    {
      "cell_type": "markdown",
      "source": [
        "# 재귀"
      ],
      "metadata": {
        "id": "mNWMrtmQdQeu"
      }
    },
    {
      "cell_type": "markdown",
      "source": [
        "## 팩토리얼"
      ],
      "metadata": {
        "id": "SmBCmy7zdTJQ"
      }
    },
    {
      "cell_type": "code",
      "source": [
        "def f(n): return n*f(n-1) if n>1 else 1\n",
        "print(f(int(input())))"
      ],
      "metadata": {
        "colab": {
          "base_uri": "https://localhost:8080/"
        },
        "id": "28lc530betKb",
        "outputId": "e4e0cde1-f346-4435-f00c-934f4be56335"
      },
      "execution_count": null,
      "outputs": [
        {
          "name": "stdout",
          "output_type": "stream",
          "text": [
            "10\n"
          ]
        },
        {
          "output_type": "execute_result",
          "data": {
            "text/plain": [
              "3628800"
            ]
          },
          "metadata": {},
          "execution_count": 50
        }
      ]
    },
    {
      "cell_type": "code",
      "source": [
        "import math\n",
        "print(math.factorial(int(input())))"
      ],
      "metadata": {
        "colab": {
          "base_uri": "https://localhost:8080/"
        },
        "id": "EtwZaFC4f5lF",
        "outputId": "55aa2b0d-e2a0-4b2c-e374-43fdb4c98836"
      },
      "execution_count": null,
      "outputs": [
        {
          "output_type": "stream",
          "name": "stdout",
          "text": [
            "10\n",
            "3628800\n"
          ]
        }
      ]
    },
    {
      "cell_type": "code",
      "source": [
        "F = 1\n",
        "for i in range(2,int(input())+1):\n",
        "  F *= i\n",
        "print(F)"
      ],
      "metadata": {
        "colab": {
          "base_uri": "https://localhost:8080/"
        },
        "id": "8NC7nSjmdVmp",
        "outputId": "254469ee-26ef-4c02-a29f-7fae24a5f51f"
      },
      "execution_count": null,
      "outputs": [
        {
          "output_type": "stream",
          "name": "stdout",
          "text": [
            "10\n",
            "3628800\n"
          ]
        }
      ]
    },
    {
      "cell_type": "code",
      "source": [
        "N = int(input())\n",
        "F = 1\n",
        "while N>1:\n",
        "  F *= N\n",
        "  N -= 1\n",
        "print(F)"
      ],
      "metadata": {
        "colab": {
          "base_uri": "https://localhost:8080/"
        },
        "id": "lPrOXte1jCL7",
        "outputId": "4b065f2a-de61-41a5-ff5e-c713cfd26f87"
      },
      "execution_count": null,
      "outputs": [
        {
          "output_type": "stream",
          "name": "stdout",
          "text": [
            "10\n",
            "3628800\n"
          ]
        }
      ]
    },
    {
      "cell_type": "markdown",
      "source": [
        "## 피보나치 수 5"
      ],
      "metadata": {
        "id": "ilyY_7NmddaH"
      }
    },
    {
      "cell_type": "code",
      "source": [
        "def f(n): # 피보나치 재귀 함수\n",
        "  return f(n-1)+f(n-2) if n>1 else n # 언젠가 f(0)과 f(1)을 계산하면 각각 0과 1\n",
        "print(f(int(input())))"
      ],
      "metadata": {
        "colab": {
          "base_uri": "https://localhost:8080/"
        },
        "id": "EwZO8HERPn89",
        "outputId": "69c0456f-72ce-4539-e51f-4b8e86ad22f8"
      },
      "execution_count": null,
      "outputs": [
        {
          "output_type": "stream",
          "name": "stdout",
          "text": [
            "2\n",
            "1\n"
          ]
        }
      ]
    },
    {
      "cell_type": "code",
      "source": [
        "# 피보나치 반복문; 두 항 단위로 갱신\n",
        "a, b, n = 0, 1, int(input())\n",
        "for _ in range(n//2): # 두 항 단위로 갱신하므로 \n",
        "  a += b\n",
        "  b += a\n",
        "print((a,b)[n%2])"
      ],
      "metadata": {
        "colab": {
          "base_uri": "https://localhost:8080/"
        },
        "id": "vkqR8q8dQLvB",
        "outputId": "760f3792-f1f0-4617-dd3d-8ec4e2b9d258"
      },
      "execution_count": null,
      "outputs": [
        {
          "output_type": "stream",
          "name": "stdout",
          "text": [
            "17\n",
            "1597\n"
          ]
        }
      ]
    },
    {
      "cell_type": "code",
      "source": [
        "# 피보나치 반복문; 한 항씩 이동하면서 갱신\n",
        "a,b,n = 0,1,int(input())\n",
        "for _ in range(n-1):\n",
        "  a,b = b,a+b\n",
        "print((a,b)[n!=0]) # 0일 때만 앞 항을 출력"
      ],
      "metadata": {
        "colab": {
          "base_uri": "https://localhost:8080/"
        },
        "id": "nmrhMwtEKjZz",
        "outputId": "d79178a7-1e83-45a9-fdee-de8943e8883a"
      },
      "execution_count": null,
      "outputs": [
        {
          "output_type": "stream",
          "name": "stdout",
          "text": [
            "17\n",
            "1597\n"
          ]
        }
      ]
    },
    {
      "cell_type": "code",
      "source": [
        "def f(n):\n",
        "  if n<2:\n",
        "    return n\n",
        "  else:\n",
        "    return f(n-1)+f(n-2)\n",
        "print(f(int(input())))"
      ],
      "metadata": {
        "colab": {
          "base_uri": "https://localhost:8080/"
        },
        "id": "N1laDuNqUCBM",
        "outputId": "1b4a3945-4f0b-49d0-963a-35f7cdf4bbda"
      },
      "execution_count": null,
      "outputs": [
        {
          "output_type": "stream",
          "name": "stdout",
          "text": [
            "10\n",
            "55\n"
          ]
        }
      ]
    },
    {
      "cell_type": "code",
      "source": [
        "def f(n):\n",
        "  if n==0:\n",
        "    return 0\n",
        "  elif n==1:\n",
        "    return 1\n",
        "  else:\n",
        "    return f(n-1)+f(n-2)\n",
        "print(f(int(input())))"
      ],
      "metadata": {
        "colab": {
          "base_uri": "https://localhost:8080/"
        },
        "id": "VG4OxI3edfzz",
        "outputId": "2199eebd-3503-4d5d-ba90-ef3c547eedd6"
      },
      "execution_count": null,
      "outputs": [
        {
          "output_type": "stream",
          "name": "stdout",
          "text": [
            "10\n",
            "55\n"
          ]
        }
      ]
    },
    {
      "cell_type": "markdown",
      "source": [
        "## 재귀의 귀재"
      ],
      "metadata": {
        "id": "pehFaeiCzYph"
      }
    },
    {
      "cell_type": "code",
      "source": [
        "def recursion(s,l,r):\n",
        "  if l>=r:\n",
        "    return 1,l+1\n",
        "  elif s[l]!=s[r]:\n",
        "    return 0,l+1\n",
        "  else:\n",
        "    return recursion(s,l+1,r-1)\n",
        "def isPalindrome(s):\n",
        "  return recursion(s,0,len(s)-1)\n",
        "for _ in [0]*int(input()):\n",
        "  print(*isPalindrome(input()))"
      ],
      "metadata": {
        "id": "oqJvh1tGzYKh",
        "colab": {
          "base_uri": "https://localhost:8080/"
        },
        "outputId": "54035475-b4de-4216-cd77-e9a6974ade4f"
      },
      "execution_count": null,
      "outputs": [
        {
          "output_type": "stream",
          "name": "stdout",
          "text": [
            "5\n",
            "MOM\n",
            "1 2\n",
            "ABBA\n",
            "1 3\n",
            "TENET\n",
            "1 3\n",
            "PPAP\n",
            "0 2\n",
            "PALINDROME\n",
            "0 1\n"
          ]
        }
      ]
    },
    {
      "cell_type": "code",
      "source": [
        "for _ in [0]*int(input()):\n",
        "  s = input()\n",
        "  for i in range(len(s)):\n",
        "    if s[i]!=s[~i]: # 비트연산자를 통한 '2의 보수' 인덱싱; ~0==-1\n",
        "      print(0, i+1)\n",
        "      break\n",
        "  else:\n",
        "    print(1, len(s)//2+1)"
      ],
      "metadata": {
        "colab": {
          "base_uri": "https://localhost:8080/"
        },
        "id": "IQEQO3g9Lr3K",
        "outputId": "6edf4063-7ac8-4980-8919-e2650642a2ab"
      },
      "execution_count": null,
      "outputs": [
        {
          "output_type": "stream",
          "name": "stdout",
          "text": [
            "5\n",
            "DAD\n",
            "1 2\n",
            "XYYX\n",
            "1 3\n",
            "KAYAK\n",
            "1 3\n",
            "YOOX\n",
            "0 1\n",
            "PALINDROME\n",
            "0 1\n"
          ]
        }
      ]
    },
    {
      "cell_type": "markdown",
      "source": [
        "## 알고리즘 수업 - 병합 정렬 1"
      ],
      "metadata": {
        "id": "sc3ly_uTzfvb"
      }
    },
    {
      "cell_type": "code",
      "source": [
        "# Merge Sort algorithm\n",
        "from math import ceil\n",
        "def MS(A):\n",
        "  if len(A)<2:\n",
        "    return A\n",
        "  m = ceil(len(A)/2)\n",
        "  lowA = MS(A[:m])\n",
        "  highA = MS(A[m:])\n",
        "\n",
        "  L = []\n",
        "  l = h = 0\n",
        "  while l<len(lowA) and h<len(highA):\n",
        "    if lowA[l]<highA[h]:\n",
        "      L.append(lowA[l])\n",
        "      l += 1\n",
        "    else:\n",
        "      L.append(highA[h])\n",
        "      h += 1\n",
        "  L += lowA[l:]+highA[h:]\n",
        "  return L\n",
        "MS([4,5,1,3,2])"
      ],
      "metadata": {
        "colab": {
          "base_uri": "https://localhost:8080/"
        },
        "id": "hK7-LRskGHKz",
        "outputId": "a4a08af9-468e-4f52-f5be-e93483ce2b52"
      },
      "execution_count": null,
      "outputs": [
        {
          "output_type": "execute_result",
          "data": {
            "text/plain": [
              "[1, 2, 3, 4, 5]"
            ]
          },
          "metadata": {},
          "execution_count": 13
        }
      ]
    },
    {
      "cell_type": "code",
      "source": [
        "# 문제: 리스트 정렬에서 K번째로 정렬 및 저장되는 수 출력\n",
        "from math import ceil\n",
        "def MS(A):\n",
        "  if len(A)<2:\n",
        "    return A\n",
        "  m = ceil(len(A)/2)\n",
        "  lowA = MS(A[:m])\n",
        "  highA = MS(A[m:])\n",
        "\n",
        "  L = []\n",
        "  l = h = 0\n",
        "  global K\n",
        "  while l<len(lowA) and h<len(highA):\n",
        "    if lowA[l]<highA[h]:\n",
        "      L.append(lowA[l])\n",
        "      K -= 1\n",
        "      if K==0:\n",
        "        print(lowA[l])\n",
        "      l += 1\n",
        "    else:\n",
        "      L.append(highA[h])\n",
        "      K -= 1\n",
        "      if K==0:\n",
        "        print(highA[h])\n",
        "      h += 1\n",
        "  for r in lowA[l:]+highA[h:]:\n",
        "    L.append(r)\n",
        "    K -= 1\n",
        "    if K==0:\n",
        "      print(r)\n",
        "  return L\n",
        "  \n",
        "N,K = map(int, input().split())\n",
        "MS([*map(int, input().split())])  \n",
        "if K>0:\n",
        "  print(-1)"
      ],
      "metadata": {
        "id": "LasJFUFqzlnO",
        "colab": {
          "base_uri": "https://localhost:8080/"
        },
        "outputId": "fd2b31de-84bb-4fdf-a897-c7555e38dff7"
      },
      "execution_count": null,
      "outputs": [
        {
          "output_type": "stream",
          "name": "stdout",
          "text": [
            "10 1\n",
            "10 9 8 7 6 5 4 3 2 1\n",
            "9\n"
          ]
        }
      ]
    },
    {
      "cell_type": "markdown",
      "source": [
        "## 재귀함수가 뭔가요?"
      ],
      "metadata": {
        "id": "PioYvbWbdgsf"
      }
    },
    {
      "cell_type": "code",
      "source": [
        "def f(n):\n",
        "  print('_'*4*(m-n)+'\"재귀함수가 뭔가요?\"')\n",
        "  if n:\n",
        "    print('_'*4*(m-n)+'\"잘 들어보게. 옛날옛날 한 산 꼭대기에 이세상 모든 지식을 통달한 선인이 있었어.')\n",
        "    print('_'*4*(m-n)+'마을 사람들은 모두 그 선인에게 수많은 질문을 했고, 모두 지혜롭게 대답해 주었지.')\n",
        "    print('_'*4*(m-n)+'그의 답은 대부분 옳았다고 하네. 그런데 어느 날, 그 선인에게 한 선비가 찾아와서 물었어.\"')\n",
        "    f(n-1)\n",
        "  else:\n",
        "    print('_'*4*(m-n)+'\"재귀함수는 자기 자신을 호출하는 함수라네\"')\n",
        "  print('_'*4*(m-n)+'라고 답변하였지.')\n",
        "m = int(input())\n",
        "print('어느 한 컴퓨터공학과 학생이 유명한 교수님을 찾아가 물었다.')\n",
        "f(m)"
      ],
      "metadata": {
        "colab": {
          "base_uri": "https://localhost:8080/"
        },
        "id": "nD5cTBrP9yhi",
        "outputId": "9ef3e0dd-7354-4c1c-8d6c-8751f2e35ed4"
      },
      "execution_count": null,
      "outputs": [
        {
          "output_type": "stream",
          "name": "stdout",
          "text": [
            "2\n",
            "어느 한 컴퓨터공학과 학생이 유명한 교수님을 찾아가 물었다.\n",
            "\"재귀함수가 뭔가요?\"\n",
            "\"잘 들어보게. 옛날옛날 한 산 꼭대기에 이세상 모든 지식을 통달한 선인이 있었어.\n",
            "마을 사람들은 모두 그 선인에게 수많은 질문을 했고, 모두 지혜롭게 대답해 주었지.\n",
            "그의 답은 대부분 옳았다고 하네. 그런데 어느 날, 그 선인에게 한 선비가 찾아와서 물었어.\"\n",
            "____\"재귀함수가 뭔가요?\"\n",
            "____\"잘 들어보게. 옛날옛날 한 산 꼭대기에 이세상 모든 지식을 통달한 선인이 있었어.\n",
            "____마을 사람들은 모두 그 선인에게 수많은 질문을 했고, 모두 지혜롭게 대답해 주었지.\n",
            "____그의 답은 대부분 옳았다고 하네. 그런데 어느 날, 그 선인에게 한 선비가 찾아와서 물었어.\"\n",
            "________\"재귀함수가 뭔가요?\"\n",
            "________\"재귀함수는 자기 자신을 호출하는 함수라네\"\n",
            "________라고 답변하였지.\n",
            "____라고 답변하였지.\n",
            "라고 답변하였지.\n"
          ]
        }
      ]
    },
    {
      "cell_type": "code",
      "source": [
        "def f(n):\n",
        "  print('_'*4*(m-n)+'\"재귀함수가 뭔가요?\"')\n",
        "  if not n:\n",
        "    print('_'*4*(m-n)+'\"재귀함수는 자기 자신을 호출하는 함수라네\"')\n",
        "  else:\n",
        "    print('_'*4*(m-n)+'\"잘 들어보게. 옛날옛날 한 산 꼭대기에 이세상 모든 지식을 통달한 선인이 있었어.')\n",
        "    print('_'*4*(m-n)+'마을 사람들은 모두 그 선인에게 수많은 질문을 했고, 모두 지혜롭게 대답해 주었지.')\n",
        "    print('_'*4*(m-n)+'그의 답은 대부분 옳았다고 하네. 그런데 어느 날, 그 선인에게 한 선비가 찾아와서 물었어.\"')\n",
        "    f(n-1)\n",
        "  print('_'*4*(m-n)+'라고 답변하였지.')\n",
        "m = int(input())\n",
        "print('어느 한 컴퓨터공학과 학생이 유명한 교수님을 찾아가 물었다.')\n",
        "f(m)"
      ],
      "metadata": {
        "colab": {
          "base_uri": "https://localhost:8080/"
        },
        "id": "0ISHgXRjMeij",
        "outputId": "5d6a729f-1ba4-4e6d-f9ea-8a962726ae8e"
      },
      "execution_count": null,
      "outputs": [
        {
          "output_type": "stream",
          "name": "stdout",
          "text": [
            "2\n",
            "어느 한 컴퓨터공학과 학생이 유명한 교수님을 찾아가 물었다.\n",
            "\"재귀함수가 뭔가요?\"\n",
            "\"잘 들어보게. 옛날옛날 한 산 꼭대기에 이세상 모든 지식을 통달한 선인이 있었어.\n",
            "마을 사람들은 모두 그 선인에게 수많은 질문을 했고, 모두 지혜롭게 대답해 주었지.\n",
            "그의 답은 대부분 옳았다고 하네. 그런데 어느 날, 그 선인에게 한 선비가 찾아와서 물었어.\"\n",
            "____\"재귀함수가 뭔가요?\"\n",
            "____\"잘 들어보게. 옛날옛날 한 산 꼭대기에 이세상 모든 지식을 통달한 선인이 있었어.\n",
            "____마을 사람들은 모두 그 선인에게 수많은 질문을 했고, 모두 지혜롭게 대답해 주었지.\n",
            "____그의 답은 대부분 옳았다고 하네. 그런데 어느 날, 그 선인에게 한 선비가 찾아와서 물었어.\"\n",
            "________\"재귀함수가 뭔가요?\"\n",
            "________\"재귀함수는 자기 자신을 호출하는 함수라네\"\n",
            "________라고 답변하였지.\n",
            "____라고 답변하였지.\n",
            "라고 답변하였지.\n"
          ]
        }
      ]
    },
    {
      "cell_type": "code",
      "source": [
        "m = int(input())\n",
        "def f(n):\n",
        "  print('____'*(m-n)+'\"재귀함수가 뭔가요?\"')\n",
        "  print('____'*(m-n)+'\"잘 들어보게. 옛날옛날 한 산 꼭대기에 이세상 모든 지식을 통달한 선인이 있었어.')\n",
        "  print('____'*(m-n)+'마을 사람들은 모두 그 선인에게 수많은 질문을 했고, 모두 지혜롭게 대답해 주었지.')\n",
        "  print('____'*(m-n)+'그의 답은 대부분 옳았다고 하네. 그런데 어느 날, 그 선인에게 한 선비가 찾아와서 물었어.\"')\n",
        "  if n>1:\n",
        "    f(n-1)\n",
        "  else:\n",
        "    print('____'*m+'\"재귀함수가 뭔가요?\"')\n",
        "    print('____'*m+'\"재귀함수는 자기 자신을 호출하는 함수라네\"')\n",
        "    print('____'*m+'라고 답변하였지.')\n",
        "  print('____'*(m-n)+'라고 답변하였지.')\n",
        "print('어느 한 컴퓨터공학과 학생이 유명한 교수님을 찾아가 물었다.')\n",
        "f(m)"
      ],
      "metadata": {
        "colab": {
          "base_uri": "https://localhost:8080/"
        },
        "id": "AcOjXQE8djUV",
        "outputId": "87c1c25b-56f2-4ce6-c276-c75a0f2ffdfa"
      },
      "execution_count": null,
      "outputs": [
        {
          "output_type": "stream",
          "name": "stdout",
          "text": [
            "4\n",
            "어느 한 컴퓨터공학과 학생이 유명한 교수님을 찾아가 물었다.\n",
            "\"재귀함수가 뭔가요?\"\n",
            "\"잘 들어보게. 옛날옛날 한 산 꼭대기에 이세상 모든 지식을 통달한 선인이 있었어.\n",
            "마을 사람들은 모두 그 선인에게 수많은 질문을 했고, 모두 지혜롭게 대답해 주었지.\n",
            "그의 답은 대부분 옳았다고 하네. 그런데 어느 날, 그 선인에게 한 선비가 찾아와서 물었어.\"\n",
            "____\"재귀함수가 뭔가요?\"\n",
            "____\"잘 들어보게. 옛날옛날 한 산 꼭대기에 이세상 모든 지식을 통달한 선인이 있었어.\n",
            "____마을 사람들은 모두 그 선인에게 수많은 질문을 했고, 모두 지혜롭게 대답해 주었지.\n",
            "____그의 답은 대부분 옳았다고 하네. 그런데 어느 날, 그 선인에게 한 선비가 찾아와서 물었어.\"\n",
            "________\"재귀함수가 뭔가요?\"\n",
            "________\"잘 들어보게. 옛날옛날 한 산 꼭대기에 이세상 모든 지식을 통달한 선인이 있었어.\n",
            "________마을 사람들은 모두 그 선인에게 수많은 질문을 했고, 모두 지혜롭게 대답해 주었지.\n",
            "________그의 답은 대부분 옳았다고 하네. 그런데 어느 날, 그 선인에게 한 선비가 찾아와서 물었어.\"\n",
            "____________\"재귀함수가 뭔가요?\"\n",
            "____________\"잘 들어보게. 옛날옛날 한 산 꼭대기에 이세상 모든 지식을 통달한 선인이 있었어.\n",
            "____________마을 사람들은 모두 그 선인에게 수많은 질문을 했고, 모두 지혜롭게 대답해 주었지.\n",
            "____________그의 답은 대부분 옳았다고 하네. 그런데 어느 날, 그 선인에게 한 선비가 찾아와서 물었어.\"\n",
            "________________\"재귀함수가 뭔가요?\"\n",
            "________________\"재귀함수는 자기 자신을 호출하는 함수라네\"\n",
            "________________라고 답변하였지.\n",
            "____________라고 답변하였지.\n",
            "________라고 답변하였지.\n",
            "____라고 답변하였지.\n",
            "라고 답변하였지.\n"
          ]
        }
      ]
    },
    {
      "cell_type": "markdown",
      "source": [
        "## 별 찍기 - 10"
      ],
      "metadata": {
        "id": "dccjkUsedkmh"
      }
    },
    {
      "cell_type": "code",
      "source": [
        "n, s, i = int(input()), '*', 1\n",
        "while n>i:\n",
        "  k = [c*3 for c in s]\n",
        "  s = k + [c+' '*i+c for c in s] + k\n",
        "  i *= 3\n",
        "print('\\n'.join(s))"
      ],
      "metadata": {
        "colab": {
          "base_uri": "https://localhost:8080/"
        },
        "id": "3JEiBN02fKek",
        "outputId": "1fb3d6dc-0af7-4f63-f641-63e2252b8de1"
      },
      "execution_count": null,
      "outputs": [
        {
          "output_type": "stream",
          "name": "stdout",
          "text": [
            "27\n",
            "***************************\n",
            "* ** ** ** ** ** ** ** ** *\n",
            "***************************\n",
            "***   ******   ******   ***\n",
            "* *   * ** *   * ** *   * *\n",
            "***   ******   ******   ***\n",
            "***************************\n",
            "* ** ** ** ** ** ** ** ** *\n",
            "***************************\n",
            "*********         *********\n",
            "* ** ** *         * ** ** *\n",
            "*********         *********\n",
            "***   ***         ***   ***\n",
            "* *   * *         * *   * *\n",
            "***   ***         ***   ***\n",
            "*********         *********\n",
            "* ** ** *         * ** ** *\n",
            "*********         *********\n",
            "***************************\n",
            "* ** ** ** ** ** ** ** ** *\n",
            "***************************\n",
            "***   ******   ******   ***\n",
            "* *   * ** *   * ** *   * *\n",
            "***   ******   ******   ***\n",
            "***************************\n",
            "* ** ** ** ** ** ** ** ** *\n",
            "***************************\n"
          ]
        }
      ]
    },
    {
      "cell_type": "code",
      "source": [
        "def f(n):\n",
        "  if n==1: # 삼항연산자를 사용하는는 경우 메모리 초과 발생\n",
        "    return ['*']\n",
        "  S = f(n//3) # n/3으로 쓰면 타입 에러 발생\n",
        "  L = []\n",
        "  for s in S:\n",
        "    L.append(s*3)\n",
        "  for s in S:\n",
        "    L.append(s+' '*(n//3)+s) # 중간의 공백 부분\n",
        "  for s in S:\n",
        "    L.append(s*3)\n",
        "  return L\n",
        "print(*f(int(input())), sep='\\n')"
      ],
      "metadata": {
        "id": "nCE_k-iVb5eb"
      },
      "execution_count": null,
      "outputs": []
    },
    {
      "cell_type": "code",
      "source": [
        "def f(n):\n",
        "  if n==1:\n",
        "    return ['*']\n",
        "  S = f(n//3)\n",
        "  L = []\n",
        "  for s in S:\n",
        "    L.append(s*3)\n",
        "  for s in S:\n",
        "    L.append(s+' '*(n//3)+s)\n",
        "  for s in S:\n",
        "    L.append(s*3)\n",
        "  return L\n",
        "print('\\n'.join(f(int(input())))) # 요소가 되는 둘 이상의 문자열 사이마다 구분자"
      ],
      "metadata": {
        "colab": {
          "base_uri": "https://localhost:8080/"
        },
        "id": "SFQHBrARaLAs",
        "outputId": "6107bf8e-0280-4837-e669-5dff19e9712a"
      },
      "execution_count": null,
      "outputs": [
        {
          "output_type": "stream",
          "name": "stdout",
          "text": [
            "3\n",
            "***\n",
            "* *\n",
            "***\n",
            "3\n",
            "***\n",
            "* *\n",
            "***\n"
          ]
        }
      ]
    },
    {
      "cell_type": "code",
      "source": [
        "# 재귀한도 설정하는 방법\n",
        "import sys\n",
        "sys.setrecursionlimit(10**6)"
      ],
      "metadata": {
        "id": "cjplSJkQdnJf"
      },
      "execution_count": null,
      "outputs": []
    },
    {
      "cell_type": "markdown",
      "source": [
        "## 하노이 탑 이동 순서"
      ],
      "metadata": {
        "id": "tcrv5G5Idntv"
      }
    },
    {
      "cell_type": "code",
      "source": [
        "def h(n, s, e): # n-1개를 잉여막대에 옮겨두고, 가장 큰 1개를 목표막대에 깐 뒤, 잉여막대의 n-1개를 목표막대의 1개 위로 옮긴다.\n",
        "  if n==1:\n",
        "    print(s, e)\n",
        "    return\n",
        "  h(n-1, s, 6-s-e) # 잉여막대번호는 1,2,3중에서 출발막대와 목표막대를 제외한 번호\n",
        "  print(s, e)\n",
        "  h(n-1, 6-s-e, e)\n",
        "N = int(input())\n",
        "print(2**N-1)\n",
        "h(N, 1, 3)"
      ],
      "metadata": {
        "id": "ouo4DNk1dpCV",
        "colab": {
          "base_uri": "https://localhost:8080/"
        },
        "outputId": "040e5563-067b-4552-e43a-75f04727bf22"
      },
      "execution_count": null,
      "outputs": [
        {
          "output_type": "stream",
          "name": "stdout",
          "text": [
            "5\n",
            "31\n",
            "1 3\n",
            "1 2\n",
            "3 2\n",
            "1 3\n",
            "2 1\n",
            "2 3\n",
            "1 3\n",
            "1 2\n",
            "3 2\n",
            "3 1\n",
            "2 1\n",
            "3 2\n",
            "1 3\n",
            "1 2\n",
            "3 2\n",
            "1 3\n",
            "2 1\n",
            "2 3\n",
            "1 3\n",
            "2 1\n",
            "3 2\n",
            "3 1\n",
            "2 1\n",
            "2 3\n",
            "1 3\n",
            "1 2\n",
            "3 2\n",
            "1 3\n",
            "2 1\n",
            "2 3\n",
            "1 3\n"
          ]
        }
      ]
    },
    {
      "cell_type": "markdown",
      "source": [
        "# 브루트 포스"
      ],
      "metadata": {
        "id": "nK_tqImU2rLx"
      }
    },
    {
      "cell_type": "markdown",
      "source": [
        "## 블랙잭"
      ],
      "metadata": {
        "id": "sgGCGeMB20sn"
      }
    },
    {
      "cell_type": "code",
      "source": [
        "N,M = map(int, input().split())\n",
        "c = list(map(int, input().split()))\n",
        "s = []\n",
        "for i in range(0,N-2):\n",
        "  for j in range(i+1,N-1):\n",
        "    for k in range(j+1,N):\n",
        "      t = c[i]+c[j]+c[k]\n",
        "      if t<=M:\n",
        "        s.append(t)\n",
        "print(max(s))"
      ],
      "metadata": {
        "colab": {
          "base_uri": "https://localhost:8080/"
        },
        "id": "qkHkgaaR2212",
        "outputId": "b44e93cb-a31b-458f-8295-f9455cdb4c63"
      },
      "execution_count": null,
      "outputs": [
        {
          "output_type": "stream",
          "name": "stdout",
          "text": [
            "15 777\n",
            "93 23 12 43 2 545 483 39 700 253 101 190 35 500 55\n",
            "776\n"
          ]
        }
      ]
    },
    {
      "cell_type": "markdown",
      "source": [
        "## 분해합"
      ],
      "metadata": {
        "id": "plFxWqbI276m"
      }
    },
    {
      "cell_type": "code",
      "source": [
        "# N의 입력제한이 1000000이므로 생성자가 999999일 때 각 자리수의 합이 54로 최대\n",
        "# 즉, 적어도 이 문제에서 N의 모든 생성자는 N-54이상 N미만에서 탐색하면 충분\n",
        "N,d = int(input()),0\n",
        "for k in range(max(0,N-54),N):\n",
        "  if k+sum(int(str(k)[i]) for i in range(len(str(k))))==N:\n",
        "    d = k\n",
        "    break\n",
        "print(d)"
      ],
      "metadata": {
        "colab": {
          "base_uri": "https://localhost:8080/"
        },
        "id": "GNlh8MOTXXEm",
        "outputId": "0492ccc9-9cf7-484b-b38e-23f97e2be833"
      },
      "execution_count": null,
      "outputs": [
        {
          "output_type": "stream",
          "name": "stdout",
          "text": [
            "123456\n",
            "123441\n"
          ]
        }
      ]
    },
    {
      "cell_type": "code",
      "source": [
        "# 자연수 a부터 b까지 최소 생성자를 구하는 함수(상한: 10**10 -> 각 자리수 합 최대 90)\n",
        "def min_gen(a,b):\n",
        "  for N in range(a,b+1):\n",
        "    d = '없음'\n",
        "    for k in range(max(0,N-90),N):\n",
        "      if k+sum(int(str(k)[i]) for i in range(len(str(k))))==N:\n",
        "        d = k\n",
        "        break\n",
        "    print(N, '의 최소 생성자는 ', d, sep='')\n",
        "  return\n",
        "x,y = map(int, input().split())\n",
        "min_gen(x,y)"
      ],
      "metadata": {
        "colab": {
          "base_uri": "https://localhost:8080/"
        },
        "id": "gUUemgB327qt",
        "outputId": "44ee76a8-89d7-4203-ea71-daba279ea4db"
      },
      "execution_count": null,
      "outputs": [
        {
          "output_type": "stream",
          "name": "stdout",
          "text": [
            "1123456789 1123456879\n",
            "1123456789의 최소 생성자는 1123456748\n",
            "1123456790의 최소 생성자는 1123456753\n",
            "1123456791의 최소 생성자는 1123456749\n",
            "1123456792의 최소 생성자는 1123456754\n",
            "1123456793의 최소 생성자는 없음\n",
            "1123456794의 최소 생성자는 1123456755\n",
            "1123456795의 최소 생성자는 1123456760\n",
            "1123456796의 최소 생성자는 1123456756\n",
            "1123456797의 최소 생성자는 1123456761\n",
            "1123456798의 최소 생성자는 1123456757\n",
            "1123456799의 최소 생성자는 1123456762\n",
            "1123456800의 최소 생성자는 1123456758\n",
            "1123456801의 최소 생성자는 1123456763\n",
            "1123456802의 최소 생성자는 1123456759\n",
            "1123456803의 최소 생성자는 1123456764\n",
            "1123456804의 최소 생성자는 없음\n",
            "1123456805의 최소 생성자는 1123456765\n",
            "1123456806의 최소 생성자는 1123456770\n",
            "1123456807의 최소 생성자는 1123456766\n",
            "1123456808의 최소 생성자는 1123456771\n",
            "1123456809의 최소 생성자는 1123456767\n",
            "1123456810의 최소 생성자는 1123456772\n",
            "1123456811의 최소 생성자는 1123456768\n",
            "1123456812의 최소 생성자는 1123456773\n",
            "1123456813의 최소 생성자는 1123456769\n",
            "1123456814의 최소 생성자는 1123456774\n",
            "1123456815의 최소 생성자는 없음\n",
            "1123456816의 최소 생성자는 1123456775\n",
            "1123456817의 최소 생성자는 1123456780\n",
            "1123456818의 최소 생성자는 1123456776\n",
            "1123456819의 최소 생성자는 1123456781\n",
            "1123456820의 최소 생성자는 1123456777\n",
            "1123456821의 최소 생성자는 1123456782\n",
            "1123456822의 최소 생성자는 1123456778\n",
            "1123456823의 최소 생성자는 1123456783\n",
            "1123456824의 최소 생성자는 1123456779\n",
            "1123456825의 최소 생성자는 1123456784\n",
            "1123456826의 최소 생성자는 없음\n",
            "1123456827의 최소 생성자는 1123456785\n",
            "1123456828의 최소 생성자는 1123456790\n",
            "1123456829의 최소 생성자는 1123456786\n",
            "1123456830의 최소 생성자는 1123456791\n",
            "1123456831의 최소 생성자는 1123456787\n",
            "1123456832의 최소 생성자는 1123456792\n",
            "1123456833의 최소 생성자는 1123456788\n",
            "1123456834의 최소 생성자는 1123456793\n",
            "1123456835의 최소 생성자는 1123456789\n",
            "1123456836의 최소 생성자는 1123456794\n",
            "1123456837의 최소 생성자는 없음\n",
            "1123456838의 최소 생성자는 1123456795\n",
            "1123456839의 최소 생성자는 없음\n",
            "1123456840의 최소 생성자는 1123456796\n",
            "1123456841의 최소 생성자는 1123456810\n",
            "1123456842의 최소 생성자는 1123456797\n",
            "1123456843의 최소 생성자는 1123456811\n",
            "1123456844의 최소 생성자는 1123456798\n",
            "1123456845의 최소 생성자는 1123456812\n",
            "1123456846의 최소 생성자는 1123456799\n",
            "1123456847의 최소 생성자는 1123456813\n",
            "1123456848의 최소 생성자는 1123456809\n",
            "1123456849의 최소 생성자는 1123456814\n",
            "1123456850의 최소 생성자는 없음\n",
            "1123456851의 최소 생성자는 1123456815\n",
            "1123456852의 최소 생성자는 1123456820\n",
            "1123456853의 최소 생성자는 1123456816\n",
            "1123456854의 최소 생성자는 1123456821\n",
            "1123456855의 최소 생성자는 1123456817\n",
            "1123456856의 최소 생성자는 1123456822\n",
            "1123456857의 최소 생성자는 1123456818\n",
            "1123456858의 최소 생성자는 1123456823\n",
            "1123456859의 최소 생성자는 1123456819\n",
            "1123456860의 최소 생성자는 1123456824\n",
            "1123456861의 최소 생성자는 없음\n",
            "1123456862의 최소 생성자는 1123456825\n",
            "1123456863의 최소 생성자는 1123456830\n",
            "1123456864의 최소 생성자는 1123456826\n",
            "1123456865의 최소 생성자는 1123456831\n",
            "1123456866의 최소 생성자는 1123456827\n",
            "1123456867의 최소 생성자는 1123456832\n",
            "1123456868의 최소 생성자는 1123456828\n",
            "1123456869의 최소 생성자는 1123456833\n",
            "1123456870의 최소 생성자는 1123456829\n",
            "1123456871의 최소 생성자는 1123456834\n",
            "1123456872의 최소 생성자는 없음\n",
            "1123456873의 최소 생성자는 1123456835\n",
            "1123456874의 최소 생성자는 1123456840\n",
            "1123456875의 최소 생성자는 1123456836\n",
            "1123456876의 최소 생성자는 1123456841\n",
            "1123456877의 최소 생성자는 1123456837\n",
            "1123456878의 최소 생성자는 1123456842\n",
            "1123456879의 최소 생성자는 1123456838\n"
          ]
        }
      ]
    },
    {
      "cell_type": "markdown",
      "source": [
        "## 덩치"
      ],
      "metadata": {
        "id": "5U9pcgQh3AEu"
      }
    },
    {
      "cell_type": "code",
      "source": [
        "L = [list(map(int, input().split())) for _ in range(int(input()))]\n",
        "print(*[1+sum(m[0]<x[0] and m[1]<x[1] for x in L) for m in L])"
      ],
      "metadata": {
        "colab": {
          "base_uri": "https://localhost:8080/"
        },
        "id": "7KijF5LfJ38P",
        "outputId": "82eeb51f-8928-44ff-c2b7-89467668227a"
      },
      "execution_count": null,
      "outputs": [
        {
          "output_type": "stream",
          "name": "stdout",
          "text": [
            "5\n",
            "55 185\n",
            "58 183\n",
            "88 186\n",
            "60 175\n",
            "46 155\n",
            "2 2 1 2 5\n"
          ]
        }
      ]
    },
    {
      "cell_type": "code",
      "source": [
        "L = [list(map(int, input().split())) for _ in range(int(input()))]\n",
        "print(*[1+sum(w<m and h<l for m,l in L) for w,h in L])"
      ],
      "metadata": {
        "colab": {
          "base_uri": "https://localhost:8080/"
        },
        "id": "ztMYjqlqS2O7",
        "outputId": "7b7451fb-743d-496e-bc29-4f596e01a0b3"
      },
      "execution_count": null,
      "outputs": [
        {
          "output_type": "stream",
          "name": "stdout",
          "text": [
            "3\n",
            "80 184\n",
            "75 184\n",
            "50 155\n",
            "1 1 3\n"
          ]
        }
      ]
    },
    {
      "cell_type": "markdown",
      "source": [
        "## 체스판 다시 칠하기"
      ],
      "metadata": {
        "id": "UU2_duCf2_XK"
      }
    },
    {
      "cell_type": "code",
      "source": [
        "N,M = map(int, input().split())\n",
        "L = [input() for _ in range(N)]\n",
        "W,B = ('WB'*4+'BW'*4)*4,('BW'*4+'WB'*4)*4 # 정답 체스판 두 가지를 각각 길이 64의 문자열로 저장\n",
        "s = 64 # 바꿀 색의 수; 정답이랑 정반대인 경우 최대 64개를 바꿔야 함\n",
        "for i in range(7,N):\n",
        "  for j in range(7,M): # 주어진 보드의 인덱스(7,7)성분을 가장 우측하단 칸으로 하는 곳부터 시작해서 8*8보드 슬라이싱\n",
        "    P = ''\n",
        "    for k in range(i-7,i+1):\n",
        "      P += L[k][j-7:j+1] # 슬라이싱된 8*8보드를 길이 64의 문자열로 저장\n",
        "    x = sum(a!=b for a,b in zip(P,W))\n",
        "    y = sum(a!=c for a,c in zip(P,B))\n",
        "    s = min(min(x,y),s) # 정답 체스판과 다른 색의 수를 이전 값과 비교하여 최솟값으로 갱신\n",
        "print(s)"
      ],
      "metadata": {
        "colab": {
          "base_uri": "https://localhost:8080/"
        },
        "id": "gEf25-yc3EM0",
        "outputId": "d78a7480-cda8-4bde-8c99-be68ec67395d"
      },
      "execution_count": null,
      "outputs": [
        {
          "output_type": "stream",
          "name": "stdout",
          "text": [
            "10 13\n",
            "BBBBBBBBWBWBW\n",
            "BBBBBBBBBWBWB\n",
            "BBBBBBBBWBWBW\n",
            "BBBBBBBBBWBWB\n",
            "BBBBBBBBWBWBW\n",
            "BBBBBBBBBWBWB\n",
            "BBBBBBBBWBWBW\n",
            "BBBBBBBBBWBWB\n",
            "WWWWWWWWWWBWB\n",
            "WWWWWWWWWWBWB\n",
            "12\n"
          ]
        }
      ]
    },
    {
      "cell_type": "markdown",
      "source": [
        "## 영화감독 숌"
      ],
      "metadata": {
        "id": "nbrasqIz3Dj6"
      }
    },
    {
      "cell_type": "code",
      "source": [
        "# 두 코드 모두 시간복잡도가 높으므로 이후에 보다 효율적인 코드 공부하기\n",
        "N,i,t = int(input()),1,666\n",
        "while i<N:\n",
        "  t += 1\n",
        "  if str(t).find('666')!=-1:\n",
        "    i += 1\n",
        "print(t)"
      ],
      "metadata": {
        "colab": {
          "base_uri": "https://localhost:8080/"
        },
        "id": "AJLNLY42oRb2",
        "outputId": "0b2d0ccc-539a-4756-b836-d6bb5f06648f"
      },
      "execution_count": null,
      "outputs": [
        {
          "output_type": "stream",
          "name": "stdout",
          "text": [
            "10000\n",
            "2666799\n"
          ]
        }
      ]
    },
    {
      "cell_type": "code",
      "source": [
        "N,i,t = int(input()),1,666\n",
        "while i<N:\n",
        "  t += 1\n",
        "  if '666' in str(t):\n",
        "    i += 1\n",
        "print(t)"
      ],
      "metadata": {
        "colab": {
          "base_uri": "https://localhost:8080/"
        },
        "id": "GP1TrDmisH6c",
        "outputId": "5b8aa267-27fb-41a3-867f-f22322656b41"
      },
      "execution_count": null,
      "outputs": [
        {
          "output_type": "stream",
          "name": "stdout",
          "text": [
            "10000\n",
            "2666799\n"
          ]
        }
      ]
    },
    {
      "cell_type": "markdown",
      "source": [
        "# 정렬"
      ],
      "metadata": {
        "id": "RLcuFKVCFTh2"
      }
    },
    {
      "cell_type": "markdown",
      "source": [
        "## 수 정렬하기"
      ],
      "metadata": {
        "id": "S707W96PFX0g"
      }
    },
    {
      "cell_type": "code",
      "source": [
        "L = [int(input()) for _ in range(int(input()))]\n",
        "L.sort()\n",
        "print(*L, sep='\\n')"
      ],
      "metadata": {
        "colab": {
          "base_uri": "https://localhost:8080/"
        },
        "id": "N6GXtre6Fare",
        "outputId": "55ce1a2a-22ba-46de-e36b-0dea7c18f64b"
      },
      "execution_count": null,
      "outputs": [
        {
          "output_type": "stream",
          "name": "stdout",
          "text": [
            "4\n",
            "150\n",
            "-23\n",
            "0\n",
            "51\n",
            "-23\n",
            "0\n",
            "51\n",
            "150\n"
          ]
        }
      ]
    },
    {
      "cell_type": "code",
      "source": [
        "L = [int(input()) for _ in range(int(input()))]\n",
        "L.sort()\n",
        "for n in L:\n",
        "  print(n)"
      ],
      "metadata": {
        "colab": {
          "base_uri": "https://localhost:8080/"
        },
        "id": "vlxf82FSHBdA",
        "outputId": "8ecbceae-8c17-4cb3-ce5c-a4a140655d88"
      },
      "execution_count": null,
      "outputs": [
        {
          "output_type": "stream",
          "name": "stdout",
          "text": [
            "5\n",
            "5\n",
            "4\n",
            "2\n",
            "3\n",
            "1\n",
            "1\n",
            "2\n",
            "3\n",
            "4\n",
            "5\n"
          ]
        }
      ]
    },
    {
      "cell_type": "code",
      "source": [
        "L = [int(input()) for _ in range(int(input()))]\n",
        "while L!=[]:\n",
        "  print(min(L))\n",
        "  L.remove(min(L))"
      ],
      "metadata": {
        "colab": {
          "base_uri": "https://localhost:8080/"
        },
        "id": "h_-aFbkMIIpd",
        "outputId": "b936878a-ea24-4e15-db6f-86855d7674dd"
      },
      "execution_count": null,
      "outputs": [
        {
          "output_type": "stream",
          "name": "stdout",
          "text": [
            "7\n",
            "-1\n",
            "-2\n",
            "5\n",
            "20\n",
            "-45\n",
            "20\n",
            "3\n",
            "-45\n",
            "-2\n",
            "-1\n",
            "3\n",
            "5\n",
            "20\n",
            "20\n"
          ]
        }
      ]
    },
    {
      "cell_type": "code",
      "source": [
        "print(*sorted(int(input()) for _ in range(int(input()))), sep='\\n')"
      ],
      "metadata": {
        "colab": {
          "base_uri": "https://localhost:8080/"
        },
        "id": "aQXd807IKyRO",
        "outputId": "a99666b6-7c0b-4765-f313-95846a92c58b"
      },
      "execution_count": null,
      "outputs": [
        {
          "output_type": "stream",
          "name": "stdout",
          "text": [
            "9\n",
            "1\n",
            "-1\n",
            "2\n",
            "-3\n",
            "4\n",
            "-5\n",
            "6\n",
            "-7\n",
            "8\n",
            "-7\n",
            "-5\n",
            "-3\n",
            "-1\n",
            "1\n",
            "2\n",
            "4\n",
            "6\n",
            "8\n"
          ]
        }
      ]
    },
    {
      "cell_type": "markdown",
      "source": [
        "## 수 정렬하기 2"
      ],
      "metadata": {
        "id": "fwADyFSmFeae"
      }
    },
    {
      "cell_type": "code",
      "source": [
        "import sys\n",
        "print(*sorted(int(sys.stdin.readline()) for _ in range(int(input()))), sep='\\n')"
      ],
      "metadata": {
        "id": "1DgIzUxFFgAu"
      },
      "execution_count": null,
      "outputs": []
    },
    {
      "cell_type": "markdown",
      "source": [
        "## 수 정렬하기 3"
      ],
      "metadata": {
        "id": "nH3xPgh8Fgq0"
      }
    },
    {
      "cell_type": "code",
      "source": [
        "# 주어지는 수(상한 10000)를 인덱스로 취급하여, 성분만큼 인덱스를 출력한다.(카운팅 알고리즘)\n",
        "import sys\n",
        "n = [0]*10001\n",
        "for _ in range(int(input())):\n",
        "  n[int(sys.stdin.readline())] += 1  # 인덱스에 해당하는 성분에 그 수가 입력된 횟수만큼 1을 더함\n",
        "for i in range(10001):\n",
        "  for j in range(n[i]):\n",
        "    print(i)"
      ],
      "metadata": {
        "colab": {
          "base_uri": "https://localhost:8080/"
        },
        "id": "x4EDbC40Fh_9",
        "outputId": "3b6e694f-146b-4727-deba-a9101701dc1e"
      },
      "execution_count": null,
      "outputs": [
        {
          "output_type": "stream",
          "name": "stdout",
          "text": [
            "5\n",
            "6\n",
            "90\n",
            "3\n",
            "4\n",
            "3\n",
            "3\n",
            "3\n",
            "4\n",
            "6\n",
            "90\n"
          ]
        }
      ]
    },
    {
      "cell_type": "markdown",
      "source": [
        "## 대표값2"
      ],
      "metadata": {
        "id": "I8vmPvQz0FJs"
      }
    },
    {
      "cell_type": "code",
      "source": [],
      "metadata": {
        "id": "Y-EoCXEu0E4w"
      },
      "execution_count": null,
      "outputs": []
    },
    {
      "cell_type": "markdown",
      "source": [
        "## 커트라인"
      ],
      "metadata": {
        "id": "dWTcItyTFick"
      }
    },
    {
      "cell_type": "code",
      "source": [
        "N,k = map(int, input().split())\n",
        "print(sorted(map(int, input().split()), reverse=1)[k-1])"
      ],
      "metadata": {
        "colab": {
          "base_uri": "https://localhost:8080/"
        },
        "id": "eUw65N_TFj4i",
        "outputId": "d655c84b-1903-4be1-f358-90a8ef4ff4df"
      },
      "execution_count": null,
      "outputs": [
        {
          "name": "stdout",
          "output_type": "stream",
          "text": [
            "5 2\n",
            "100 76 85 93 98\n"
          ]
        },
        {
          "output_type": "execute_result",
          "data": {
            "text/plain": [
              "98"
            ]
          },
          "metadata": {},
          "execution_count": 21
        }
      ]
    },
    {
      "cell_type": "markdown",
      "source": [
        "## 통계학"
      ],
      "metadata": {
        "id": "D3emJuHHFkZT"
      }
    },
    {
      "cell_type": "code",
      "source": [
        "from statistics import *;import sys\n",
        "L = sorted([int(sys.stdin.readline()) for _ in range(int(input()))])\n",
        "print(round(mean(L)), L[len(L)//2], multimode(L)[:2][-1], L[-1]-L[0], sep='\\n')\n",
        "# 코랩에서 statistics.multimode() 오류 발생"
      ],
      "metadata": {
        "colab": {
          "base_uri": "https://localhost:8080/"
        },
        "id": "LJoYDDlg8wPA",
        "outputId": "47493383-6b23-4c61-b622-25dd7b7b561b"
      },
      "execution_count": null,
      "outputs": [
        {
          "output_type": "stream",
          "name": "stdout",
          "text": [
            "5\n",
            "1\n",
            "3\n",
            "8\n",
            "-2\n",
            "2\n",
            "2\n",
            "2\n",
            "1\n",
            "10\n"
          ]
        }
      ]
    },
    {
      "cell_type": "code",
      "source": [
        "import sys;from collections import Counter\n",
        "L = [int(sys.stdin.readline()) for _ in range(int(input()))]\n",
        "m = sum(L)/len(L)\n",
        "# if m-int(m)==0.5:\n",
        "#   m = int(m)+1\n",
        "# elif m-int(m)==-0.5:\n",
        "#   m = int(m)-1\n",
        "# else:\n",
        "#   m = round(m)\n",
        "# 단, 이 문제에서 입력개수가 홀수이고 입력형태가 정수이므로 소수 부분이 0.5로 나오지 않음\n",
        "print(round(m)) # 산술평균(소수점 이하 첫째 자리에서 반올림)\n",
        "print(sorted(L)[len(L)//2]) # 중앙값\n",
        "M = Counter(L).most_common() # 빈도 기준 내림차순으로 (값, 빈도)쌍의 모음\n",
        "F = []\n",
        "for t in M:\n",
        "  if t[1]!=M[0][1]:\n",
        "    break\n",
        "  F.append(t[0]) # 최빈값들만 모음\n",
        "F.sort()\n",
        "print(F[1] if len(F)>1 else F[0]) # 최빈값(여러 개->두 번째 작은 값)\n",
        "print(max(L)-min(L)) # 범위(최대-최소)"
      ],
      "metadata": {
        "colab": {
          "base_uri": "https://localhost:8080/"
        },
        "id": "Ck3OSE5TFlm9",
        "outputId": "c33dfe07-8998-413c-ccd1-e665403544b4"
      },
      "execution_count": null,
      "outputs": [
        {
          "output_type": "stream",
          "name": "stdout",
          "text": [
            "5\n",
            "-1\n",
            "-2\n",
            "-3\n",
            "-1\n",
            "-2\n",
            "-2\n",
            "-2\n",
            "-1\n",
            "2\n"
          ]
        }
      ]
    },
    {
      "cell_type": "code",
      "source": [
        "# 카운팅 알고리즘 사용(주어지는 수의 절댓값의 상한이 4000이므로 인덱스를 8000까지 사용)\n",
        "# -4000->0, 0->4000, 4000->8000으로 평행이동\n",
        "import sys\n",
        "L = [0]*8001\n",
        "N = int(input())\n",
        "s = 0\n",
        "for _ in range(N):\n",
        "  n = int(sys.stdin.readline())\n",
        "  L[n+4000] += 1\n",
        "  s += n # 입력된 수의 총합\n",
        "print(round(s/N)) # 산술평균\n",
        "c = 0\n",
        "i = -1\n",
        "while c<N//2+1: # 작은 수부터 세어서 총 개수가 반을 넘는 순간 중단\n",
        "  i += 1\n",
        "  c += L[i]\n",
        "print(i-4000) # 중앙값\n",
        "M = []\n",
        "for i in range(8001):\n",
        "  if L[i]==max(L):\n",
        "    M.append(i-4000) # 최빈값들만 모음(인덱스이므로 자동 오름차순)\n",
        "print(M[1] if len(M)>1 else M[0]) # 최빈값\n",
        "a,b = 0,8000\n",
        "while not L[a]: # 0이면 실행, 아니면 중단\n",
        "  a += 1\n",
        "while not L[b]:\n",
        "  b -= 1 \n",
        "print(b-a) # 범위"
      ],
      "metadata": {
        "colab": {
          "base_uri": "https://localhost:8080/"
        },
        "id": "Ug1hkCqipTmt",
        "outputId": "d1fcd25b-ba85-4d79-d438-178069da9401"
      },
      "execution_count": null,
      "outputs": [
        {
          "output_type": "stream",
          "name": "stdout",
          "text": [
            "5\n",
            "1\n",
            "3\n",
            "8\n",
            "-2\n",
            "2\n",
            "2\n",
            "2\n",
            "1\n",
            "10\n"
          ]
        }
      ]
    },
    {
      "cell_type": "code",
      "source": [
        "# 소수점 이하 첫째 자리에서 반올림 함수(round는 소수 부분이 0.5일 때 오류 발생)\n",
        "def R1(x):\n",
        "  if x-int(x)==0.5: # 양수이면서 소수 부분이 0.5\n",
        "    r = int(x)+1\n",
        "  elif x-int(x)==-0.5: # 음수이면서 소수 부분이 0.5\n",
        "    r = int(x)-1\n",
        "  else: # 소수 부분이 0.5가 아님\n",
        "    r = round(x)\n",
        "  return r\n",
        "\n",
        "for a in [0.5,1.5,-0.5,-1.5,-1,0,1,2,7.8,-10.2]:\n",
        "  print(R1(a), round(a))"
      ],
      "metadata": {
        "colab": {
          "base_uri": "https://localhost:8080/"
        },
        "id": "O8J3YtFl9rPu",
        "outputId": "ea7b5f92-efeb-4d93-c594-16d81b2a74d2"
      },
      "execution_count": null,
      "outputs": [
        {
          "output_type": "stream",
          "name": "stdout",
          "text": [
            "1 0\n",
            "2 2\n",
            "-1 0\n",
            "-2 -2\n",
            "-1 -1\n",
            "0 0\n",
            "1 1\n",
            "2 2\n",
            "8 8\n",
            "-10 -10\n"
          ]
        }
      ]
    },
    {
      "cell_type": "code",
      "source": [
        "# 최빈값(여러 개->두 번째 작은 값) 함수\n",
        "from collections import Counter\n",
        "def Mode(L):\n",
        "  M = Counter(L).most_common()\n",
        "  F = []\n",
        "  for m in M:\n",
        "    if m[1]!=M[0][1]:\n",
        "      break\n",
        "    F.append(m)\n",
        "  F.sort()\n",
        "  return F[0][0] if len(F)==1 else F[1][0]\n",
        "\n",
        "Mode([-1,-1,-1,0,0,2,2,2,3,4,4,4])"
      ],
      "metadata": {
        "colab": {
          "base_uri": "https://localhost:8080/"
        },
        "id": "uOTLr1VgFoqK",
        "outputId": "f59057e1-efbf-458a-cc3d-819a41950def"
      },
      "execution_count": null,
      "outputs": [
        {
          "output_type": "execute_result",
          "data": {
            "text/plain": [
              "2"
            ]
          },
          "metadata": {},
          "execution_count": 68
        }
      ]
    },
    {
      "cell_type": "markdown",
      "source": [
        "## 소트인사이드"
      ],
      "metadata": {
        "id": "AvbshZb6FmHe"
      }
    },
    {
      "cell_type": "code",
      "source": [
        "print(*sorted(input(), reverse=1),sep='')"
      ],
      "metadata": {
        "colab": {
          "base_uri": "https://localhost:8080/"
        },
        "id": "opIzzofhnFyq",
        "outputId": "e45aae66-dd4c-451f-f7ab-801db40e2923"
      },
      "execution_count": null,
      "outputs": [
        {
          "output_type": "stream",
          "name": "stdout",
          "text": [
            "12345678900\n",
            "98765432100\n"
          ]
        }
      ]
    },
    {
      "cell_type": "code",
      "source": [
        "print(''.join(sorted(input())[::-1]))"
      ],
      "metadata": {
        "colab": {
          "base_uri": "https://localhost:8080/"
        },
        "id": "gCVoCYlWT3ba",
        "outputId": "b4756974-f804-4a93-aa30-32cec7d2cf60"
      },
      "execution_count": null,
      "outputs": [
        {
          "output_type": "stream",
          "name": "stdout",
          "text": [
            "2815470943\n",
            "9875443210\n"
          ]
        }
      ]
    },
    {
      "cell_type": "code",
      "source": [
        "print(*sorted(input())[::-1],sep='')"
      ],
      "metadata": {
        "colab": {
          "base_uri": "https://localhost:8080/"
        },
        "id": "iQLK6f6cUVET",
        "outputId": "dee44715-cba8-48ac-a83c-153de3a509e9"
      },
      "execution_count": null,
      "outputs": [
        {
          "output_type": "stream",
          "name": "stdout",
          "text": [
            "74838593\n",
            "98875433\n"
          ]
        }
      ]
    },
    {
      "cell_type": "markdown",
      "source": [
        "## 좌표 정렬하기"
      ],
      "metadata": {
        "id": "upVKG05EFpIb"
      }
    },
    {
      "cell_type": "code",
      "source": [
        "import sys\n",
        "L = []\n",
        "for _ in range(int(input())):\n",
        "  L.append(list(map(int, sys.stdin.readline().split())))\n",
        "for p in sorted(L):\n",
        "  print(*p)"
      ],
      "metadata": {
        "id": "JW1cUSk7dwvZ"
      },
      "execution_count": null,
      "outputs": []
    },
    {
      "cell_type": "code",
      "source": [
        "import sys\n",
        "L = []\n",
        "for _ in range(int(input())):\n",
        "  L.append(list(map(int, sys.stdin.readline().split())))\n",
        "L.sort()\n",
        "for p in L:\n",
        "  print(*p)"
      ],
      "metadata": {
        "colab": {
          "base_uri": "https://localhost:8080/"
        },
        "id": "5Q9_1iB8FrIE",
        "outputId": "38d2ece8-b6b2-4b24-d092-dddfa7502f66"
      },
      "execution_count": null,
      "outputs": [
        {
          "output_type": "stream",
          "name": "stdout",
          "text": [
            "4\n",
            "1 2\n",
            "1 3\n",
            "2 -2\n",
            "2 -1\n",
            "1 2\n",
            "1 3\n",
            "2 -2\n",
            "2 -1\n"
          ]
        }
      ]
    },
    {
      "cell_type": "code",
      "source": [
        "for p in sorted([*map(int, input().split())] for _ in [0]*int(input())):\n",
        "  print(*p)"
      ],
      "metadata": {
        "colab": {
          "base_uri": "https://localhost:8080/"
        },
        "id": "wqCmiMuve-9Y",
        "outputId": "ef89af79-7c67-4b53-f7a4-ab8474313e59"
      },
      "execution_count": null,
      "outputs": [
        {
          "output_type": "stream",
          "name": "stdout",
          "text": [
            "5\n",
            "0 4\n",
            "1 2\n",
            "1 -1\n",
            "2 2\n",
            "3 3\n",
            "0 4\n",
            "1 -1\n",
            "1 2\n",
            "2 2\n",
            "3 3\n"
          ]
        }
      ]
    },
    {
      "cell_type": "markdown",
      "source": [
        "## 좌표 정렬하기 2"
      ],
      "metadata": {
        "id": "Ws2IIeu7Frr_"
      }
    },
    {
      "cell_type": "code",
      "source": [
        "import sys\n",
        "L = []\n",
        "for _ in range(int(input())):\n",
        "  L.append(list(map(int, sys.stdin.readline().split())))\n",
        "L.sort(key=lambda x:(x[1],x[0]))\n",
        "for p in L:\n",
        "  print(*p)"
      ],
      "metadata": {
        "colab": {
          "base_uri": "https://localhost:8080/"
        },
        "id": "dn6YcagTFtb9",
        "outputId": "1c0dd9eb-765b-4114-d9a0-31bb5e43e822"
      },
      "execution_count": null,
      "outputs": [
        {
          "output_type": "stream",
          "name": "stdout",
          "text": [
            "5\n",
            "0 4\n",
            "1 2\n",
            "1 -1\n",
            "2 2\n",
            "3 3\n",
            "1 -1\n",
            "1 2\n",
            "2 2\n",
            "3 3\n",
            "0 4\n"
          ]
        }
      ]
    },
    {
      "cell_type": "code",
      "source": [
        "import sys\n",
        "L = []\n",
        "for _ in range(int(input())):\n",
        "  L.append(list(map(int, sys.stdin.readline().split())))\n",
        "for p in sorted(L, key=lambda x:(x[1],x[0])):\n",
        "  print(*p)"
      ],
      "metadata": {
        "colab": {
          "base_uri": "https://localhost:8080/"
        },
        "id": "41Lm0c69igk1",
        "outputId": "1a3cc9b1-27f4-40a2-fa72-40929510124b"
      },
      "execution_count": null,
      "outputs": [
        {
          "output_type": "stream",
          "name": "stdout",
          "text": [
            "5\n",
            "0 4\n",
            "1 2\n",
            "1 -1\n",
            "2 2\n",
            "3 3\n",
            "1 -1\n",
            "1 2\n",
            "2 2\n",
            "3 3\n",
            "0 4\n"
          ]
        }
      ]
    },
    {
      "cell_type": "code",
      "source": [
        "for p in sorted([[*map(int, input().split())] for _ in [0]*int(input())], key=lambda x:(x[1],x[0])):\n",
        "  print(*p)"
      ],
      "metadata": {
        "colab": {
          "base_uri": "https://localhost:8080/"
        },
        "id": "EH8Tc0oQkW_W",
        "outputId": "23d355e7-5cff-44ae-d0ca-934df4044325"
      },
      "execution_count": null,
      "outputs": [
        {
          "output_type": "stream",
          "name": "stdout",
          "text": [
            "5\n",
            "0 4\n",
            "1 2\n",
            "1 -1\n",
            "2 2\n",
            "3 3\n",
            "1 -1\n",
            "1 2\n",
            "2 2\n",
            "3 3\n",
            "0 4\n"
          ]
        }
      ]
    },
    {
      "cell_type": "code",
      "source": [
        "for i,j in sorted([*map(int, input().split()[::-1])] for _ in [0]*int(input())):\n",
        "  print(j,i)"
      ],
      "metadata": {
        "colab": {
          "base_uri": "https://localhost:8080/"
        },
        "id": "qNcLLGbOqPiS",
        "outputId": "936f8f2e-cd32-40f3-874d-823fd7b5b07a"
      },
      "execution_count": null,
      "outputs": [
        {
          "output_type": "stream",
          "name": "stdout",
          "text": [
            "3\n",
            "-1 2\n",
            "0 2\n",
            "-1 -1\n",
            "-1 -1\n",
            "-1 2\n",
            "0 2\n"
          ]
        }
      ]
    },
    {
      "cell_type": "code",
      "source": [
        "for p in sorted([*map(int, input().split()[::-1])] for _ in [0]*int(input())):\n",
        "  print(*p[::-1])"
      ],
      "metadata": {
        "colab": {
          "base_uri": "https://localhost:8080/"
        },
        "id": "vS0j4cavmxBB",
        "outputId": "d5fb078e-b0a5-4d6e-8570-b9a7ea077e83"
      },
      "execution_count": null,
      "outputs": [
        {
          "output_type": "stream",
          "name": "stdout",
          "text": [
            "5\n",
            "0 4\n",
            "1 2\n",
            "1 -1\n",
            "2 2\n",
            "3 3\n",
            "1 -1\n",
            "1 2\n",
            "2 2\n",
            "3 3\n",
            "0 4\n"
          ]
        }
      ]
    },
    {
      "cell_type": "markdown",
      "source": [
        "## 단어 정렬"
      ],
      "metadata": {
        "id": "hzv0PE78Ft_3"
      }
    },
    {
      "cell_type": "code",
      "source": [
        "# 숏코딩\n",
        "print(*sorted(sorted({input() for _ in range(int(input()))}), key=len))"
      ],
      "metadata": {
        "colab": {
          "base_uri": "https://localhost:8080/"
        },
        "id": "aVv6pekUe8Vp",
        "outputId": "649b53da-8882-4ba2-c153-5700f5480b38"
      },
      "execution_count": null,
      "outputs": [
        {
          "output_type": "stream",
          "name": "stdout",
          "text": [
            "3\n",
            "a\n",
            "a\n",
            "cv\n",
            "a cv\n"
          ]
        }
      ]
    },
    {
      "cell_type": "code",
      "source": [
        "print(*sorted({input() for _ in range(int(input()))}, key=lambda x:(len(x),x)))"
      ],
      "metadata": {
        "colab": {
          "base_uri": "https://localhost:8080/"
        },
        "id": "UntqzmFScqy2",
        "outputId": "693a64f4-34f0-474d-a66e-bfabafdd1fcd"
      },
      "execution_count": null,
      "outputs": [
        {
          "output_type": "stream",
          "name": "stdout",
          "text": [
            "5\n",
            "zx\n",
            "abc\n",
            "abc\n",
            "cba\n",
            "ade\n",
            "zx abc ade cba\n"
          ]
        }
      ]
    },
    {
      "cell_type": "code",
      "source": [
        "# sys.stdin.readline()로 문자열 입력 시 개행 제거\n",
        "import sys\n",
        "L = list({sys.stdin.readline().rstrip() for _ in range(int(input()))})\n",
        "print(*sorted(L, key=lambda x:(len(x),x)))"
      ],
      "metadata": {
        "id": "y5v_PDKvaW7t"
      },
      "execution_count": null,
      "outputs": []
    },
    {
      "cell_type": "code",
      "source": [
        "# set 정렬에 .sort()는 불가능(list 정렬에 가능), sorted()는 가능\n",
        "L = {input() for _ in range(int(input()))}\n",
        "print(*sorted(L, key=lambda x:(len(x),x)))"
      ],
      "metadata": {
        "colab": {
          "base_uri": "https://localhost:8080/"
        },
        "id": "DESQLwOlbHKP",
        "outputId": "e41c6135-88d0-48d4-bccc-3e0b472e2bd0"
      },
      "execution_count": null,
      "outputs": [
        {
          "output_type": "stream",
          "name": "stdout",
          "text": [
            "5\n",
            "zx\n",
            "abc\n",
            "abc\n",
            "cba\n",
            "ade\n",
            "zx abc ade cba\n"
          ]
        }
      ]
    },
    {
      "cell_type": "code",
      "source": [
        "L = list({input() for _ in range(int(input()))})\n",
        "L.sort(key=lambda x:(len(x),x))\n",
        "print(*L)"
      ],
      "metadata": {
        "colab": {
          "base_uri": "https://localhost:8080/"
        },
        "id": "rKRUAbIGFvZj",
        "outputId": "3f43888d-a74d-49a8-8b69-31ac7dcfcb2c"
      },
      "execution_count": null,
      "outputs": [
        {
          "output_type": "stream",
          "name": "stdout",
          "text": [
            "13\n",
            "but\n",
            "i\n",
            "wont\n",
            "hesitate\n",
            "no\n",
            "more\n",
            "no\n",
            "more\n",
            "it\n",
            "cannot\n",
            "wait\n",
            "im\n",
            "yours\n",
            "i im it no but more wait wont yours cannot hesitate\n"
          ]
        }
      ]
    },
    {
      "cell_type": "code",
      "source": [
        "L = sorted({input() for _ in range(int(input()))})\n",
        "L.sort(key=len)\n",
        "print(*L)"
      ],
      "metadata": {
        "colab": {
          "base_uri": "https://localhost:8080/"
        },
        "id": "GHSXpWddg_Zw",
        "outputId": "7aaf3fa9-e677-4e8d-ada2-8ebac93f577a"
      },
      "execution_count": null,
      "outputs": [
        {
          "output_type": "stream",
          "name": "stdout",
          "text": [
            "13\n",
            "but\n",
            "i\n",
            "wont\n",
            "hesitate\n",
            "no\n",
            "more\n",
            "no\n",
            "more\n",
            "it\n",
            "cannot\n",
            "wait\n",
            "im\n",
            "yours\n",
            "i im it no but more wait wont yours cannot hesitate\n"
          ]
        }
      ]
    },
    {
      "cell_type": "markdown",
      "source": [
        "## 나이순 정렬"
      ],
      "metadata": {
        "id": "ClQv6xbaFv_w"
      }
    },
    {
      "cell_type": "code",
      "source": [
        "print(*sorted([input() for _ in [0]*int(input())], key=lambda x:int(x.split()[0])))"
      ],
      "metadata": {
        "colab": {
          "base_uri": "https://localhost:8080/"
        },
        "id": "vAFFu2QmocgX",
        "outputId": "5acf730f-27a0-48c2-bcdc-0dda7558ea5a"
      },
      "execution_count": null,
      "outputs": [
        {
          "output_type": "stream",
          "name": "stdout",
          "text": [
            "5\n",
            "27 Daesang\n",
            "96 Harmony\n",
            "3 eggy\n",
            "200 monster\n",
            "27 Gahee\n",
            "3 eggy 27 Daesang 27 Gahee 96 Harmony 200 monster\n"
          ]
        }
      ]
    },
    {
      "cell_type": "code",
      "source": [
        "for m in sorted([input().split() for _ in [0]*int(input())], key=lambda x:int(x[0])):\n",
        "  print(*m)"
      ],
      "metadata": {
        "colab": {
          "base_uri": "https://localhost:8080/"
        },
        "id": "AFdPCO7-o29Q",
        "outputId": "6c51356b-b805-4937-e5ea-89a5446848d0"
      },
      "execution_count": null,
      "outputs": [
        {
          "output_type": "stream",
          "name": "stdout",
          "text": [
            "4\n",
            "100 Josang\n",
            "100 Baekjoon\n",
            "19 Semiman\n",
            "50 Kyun\n",
            "19 Semiman\n",
            "50 Kyun\n",
            "100 Josang\n",
            "100 Baekjoon\n"
          ]
        }
      ]
    },
    {
      "cell_type": "markdown",
      "source": [
        "## 좌표 압축"
      ],
      "metadata": {
        "id": "O75J32TLFxt6"
      }
    },
    {
      "cell_type": "code",
      "source": [
        "# dict 사용\n",
        "input()\n",
        "L = list(map(int, input().split()))\n",
        "S = sorted(set(L))\n",
        "D = {S[i]:i for i in range(len(S))}\n",
        "for n in L:\n",
        "  print(D[n], end=' ')"
      ],
      "metadata": {
        "colab": {
          "base_uri": "https://localhost:8080/"
        },
        "id": "_SFh6BSnF13T",
        "outputId": "c8ef1919-27de-4d29-89c2-7cc26cc026d9"
      },
      "execution_count": null,
      "outputs": [
        {
          "output_type": "stream",
          "name": "stdout",
          "text": [
            "5\n",
            "1000 999 1000 999 1000\n",
            "1 0 1 0 1 "
          ]
        }
      ]
    },
    {
      "cell_type": "code",
      "source": [
        "input()\n",
        "L = list(map(int, input().split()))\n",
        "D = {y:x for x,y in enumerate(sorted(set(L)))} # enumerate로 인덱스 반환\n",
        "print(*[D[n] for n in L])"
      ],
      "metadata": {
        "colab": {
          "base_uri": "https://localhost:8080/"
        },
        "id": "gkzc_i6M5ldM",
        "outputId": "32fceecf-5a62-46ad-ec80-abcb69d4c607"
      },
      "execution_count": null,
      "outputs": [
        {
          "output_type": "stream",
          "name": "stdout",
          "text": [
            "5\n",
            "2 4 -10 4 -9\n",
            "2 3 0 3 1\n"
          ]
        }
      ]
    },
    {
      "cell_type": "code",
      "source": [
        "input()\n",
        "L = [*map(int, input().split())]\n",
        "D = dict(zip(sorted({*L}), range(9**9)))\n",
        "print(*[D[n] for n in L])"
      ],
      "metadata": {
        "colab": {
          "base_uri": "https://localhost:8080/"
        },
        "id": "lXcarevwAEYj",
        "outputId": "7323045a-d000-4aa9-be6e-e2be8cd71030"
      },
      "execution_count": null,
      "outputs": [
        {
          "output_type": "stream",
          "name": "stdout",
          "text": [
            "5\n",
            "2 4 -10 4 -9\n",
            "2 3 0 3 1\n"
          ]
        }
      ]
    },
    {
      "cell_type": "code",
      "source": [
        "# 시간 초과!!! .index()로 인한 시간복잡도 증가\n",
        "N = int(input())\n",
        "L = list(map(int, input().split()))\n",
        "S = sorted(set(L))\n",
        "print(*[S.index(l) for l in L])"
      ],
      "metadata": {
        "colab": {
          "base_uri": "https://localhost:8080/"
        },
        "id": "i-NsalBu1z4p",
        "outputId": "bad9d580-2bc9-4eec-9edd-ddd96dae4ada"
      },
      "execution_count": null,
      "outputs": [
        {
          "output_type": "stream",
          "name": "stdout",
          "text": [
            "5\n",
            "2 4 -10 4 -9\n",
            "2 3 0 3 1\n"
          ]
        }
      ]
    },
    {
      "cell_type": "markdown",
      "source": [
        "# 집합과 맵"
      ],
      "metadata": {
        "id": "0j88cM4gF-_h"
      }
    },
    {
      "cell_type": "markdown",
      "source": [
        "## 숫자 카드"
      ],
      "metadata": {
        "id": "LgmaWC3SGBEm"
      }
    },
    {
      "cell_type": "code",
      "source": [
        "input()\n",
        "C = {*input().split()} # list로 저장하면 마지막 코드의 포함 연산에서 시간복잡도가 증가\n",
        "input()\n",
        "print(*[int(l in C) for l in input().split()])"
      ],
      "metadata": {
        "colab": {
          "base_uri": "https://localhost:8080/"
        },
        "id": "IZd1syuA-muB",
        "outputId": "8093e5b6-fadb-4ff8-edd9-99725a304287"
      },
      "execution_count": null,
      "outputs": [
        {
          "output_type": "stream",
          "name": "stdout",
          "text": [
            "3\n",
            "1 10 100\n",
            "5\n",
            "100 0 10 1 1000\n",
            "1 0 1 1 0\n"
          ]
        }
      ]
    },
    {
      "cell_type": "markdown",
      "source": [
        "## 문자열 집합"
      ],
      "metadata": {
        "id": "wcGmFGWQGGBi"
      }
    },
    {
      "cell_type": "code",
      "source": [
        "# 숏코딩\n",
        "N,M = map(int, input().split())\n",
        "S = {input() for _ in [0]*N}\n",
        "print(sum(input() in S for _ in [0]*M))"
      ],
      "metadata": {
        "id": "H7S75enKtRKn"
      },
      "execution_count": null,
      "outputs": []
    },
    {
      "cell_type": "code",
      "source": [
        "N,M = map(int, input().split())\n",
        "S = {input() for _ in range(N)}\n",
        "M = [input() for _ in range(M)]\n",
        "print(sum(m in S for m in M))"
      ],
      "metadata": {
        "colab": {
          "base_uri": "https://localhost:8080/"
        },
        "id": "Prk_EzdTGICM",
        "outputId": "cd136aab-b712-4abb-9f04-b7c4b48026bf"
      },
      "execution_count": null,
      "outputs": [
        {
          "output_type": "stream",
          "name": "stdout",
          "text": [
            "5 11\n",
            "baekjoononlinejudge\n",
            "startlink\n",
            "codeplus\n",
            "sundaycoding\n",
            "codingsh\n",
            "baekjoon\n",
            "codeplus\n",
            "codeminus\n",
            "startlink\n",
            "starlink\n",
            "sundaycoding\n",
            "codingsh\n",
            "codinghs\n",
            "sondaycoding\n",
            "startrink\n",
            "icerink\n",
            "4\n"
          ]
        }
      ]
    },
    {
      "cell_type": "markdown",
      "source": [
        "## 나는야 포켓몬 마스터 이다솜"
      ],
      "metadata": {
        "id": "-AfkVADOGIXC"
      }
    },
    {
      "cell_type": "code",
      "source": [
        "import sys\n",
        "N,M = map(int, input().split())\n",
        "D = {}\n",
        "for i in range(1,N+1):\n",
        "  p = sys.stdin.readline().strip()\n",
        "  D[p],D[str(i)] = i,p\n",
        "for _ in [0]*M:\n",
        "  print(D[sys.stdin.readline().strip()])"
      ],
      "metadata": {
        "id": "u3JgUPHQiGZN"
      },
      "execution_count": null,
      "outputs": []
    },
    {
      "cell_type": "code",
      "source": [
        "# PyPy3, sys 등의 사용에 따라 시간 초과 여부가 다름  \n",
        "N,M = map(int, input().split())\n",
        "D = {} # 포켓몬 도감\n",
        "for i in range(1,N+1):\n",
        "  p = input()\n",
        "  D[p],D[str(i)] = i,p # 도감에 '번호:이름'과 '이름:번호'의 형태를 모두 저장\n",
        "for _ in [0]*M:\n",
        "  print(D[input()])"
      ],
      "metadata": {
        "colab": {
          "base_uri": "https://localhost:8080/"
        },
        "id": "JEK_ZgDrbqpH",
        "outputId": "636ede37-0b9f-488f-f016-cebf1c609116"
      },
      "execution_count": null,
      "outputs": [
        {
          "output_type": "stream",
          "name": "stdout",
          "text": [
            "26 5\n",
            "Bulbasaur\n",
            "Ivysaur\n",
            "Venusaur\n",
            "Charmander\n",
            "Charmeleon\n",
            "Charizard\n",
            "Squirtle\n",
            "Wartortle\n",
            "Blastoise\n",
            "Caterpie\n",
            "Metapod\n",
            "Butterfree\n",
            "Weedle\n",
            "Kakuna\n",
            "Beedrill\n",
            "Pidgey\n",
            "Pidgeotto\n",
            "Pidgeot\n",
            "Rattata\n",
            "Raticate\n",
            "Spearow\n",
            "Fearow\n",
            "Ekans\n",
            "Arbok\n",
            "Pikachu\n",
            "Raichu\n",
            "25\n",
            "Pikachu\n",
            "Raichu\n",
            "26\n",
            "3\n",
            "Venusaur\n",
            "Pidgey\n",
            "16\n",
            "Kakuna\n",
            "14\n"
          ]
        }
      ]
    },
    {
      "cell_type": "code",
      "source": [
        "import sys\n",
        "N,M = map(int, input().split())\n",
        "L = dict(zip([*map(str, range(1,N+1))], [sys.stdin.readline().strip() for _ in range(N)]))\n",
        "P = dict(zip([L[n] for n in L], [*L])) # L은 '번호:이름', P는 '이름:번호' 도감 \n",
        "for _ in range(M):\n",
        "  x = sys.stdin.readline().strip()\n",
        "  if x in L:\n",
        "    print(L[x])\n",
        "  else:\n",
        "    print(P[x])"
      ],
      "metadata": {
        "id": "D_kZlBdcGLO_",
        "colab": {
          "base_uri": "https://localhost:8080/"
        },
        "outputId": "c63bfea7-b403-45cb-a96d-c29ed2db63c1"
      },
      "execution_count": null,
      "outputs": [
        {
          "output_type": "stream",
          "name": "stdout",
          "text": [
            "5 3\n",
            "yadoran\n",
            "pikachu\n",
            "gahee\n",
            "daesang\n",
            "lisa\n",
            "1\n",
            "yadoran\n",
            "yadoran\n",
            "1\n",
            "lisa\n",
            "5\n"
          ]
        }
      ]
    },
    {
      "cell_type": "markdown",
      "source": [
        "## 숫자 카드 2"
      ],
      "metadata": {
        "id": "-F8MFmV4GLdw"
      }
    },
    {
      "cell_type": "code",
      "source": [
        "from collections import *\n",
        "I = input\n",
        "I()\n",
        "C = Counter(I().split())\n",
        "I()\n",
        "print(*[C[x] for x in I().split()])"
      ],
      "metadata": {
        "id": "W49yHKOWGNgb",
        "colab": {
          "base_uri": "https://localhost:8080/"
        },
        "outputId": "ea8a0678-58d5-42b9-bcea-85ac663c4c8b"
      },
      "execution_count": null,
      "outputs": [
        {
          "output_type": "stream",
          "name": "stdout",
          "text": [
            "5\n",
            "1 1 1 3 4\n",
            "10\n",
            "1 2 3 1 2 3 4 3 2 0\n",
            "3 0 1 3 0 1 1 1 0 0\n"
          ]
        }
      ]
    },
    {
      "cell_type": "markdown",
      "source": [
        "## 듣보잡"
      ],
      "metadata": {
        "id": "eoJbS6ltGN4Z"
      }
    },
    {
      "cell_type": "code",
      "source": [
        "N,M = map(int, input().split())\n",
        "R = sorted({input() for _ in [0]*N}&{input() for _ in [0]*M})\n",
        "print(len(R), *R)"
      ],
      "metadata": {
        "id": "P49DiZc_GO0C",
        "colab": {
          "base_uri": "https://localhost:8080/"
        },
        "outputId": "880b5d52-1d4e-4200-de90-7b66c36c36d9"
      },
      "execution_count": null,
      "outputs": [
        {
          "output_type": "stream",
          "name": "stdout",
          "text": [
            "3 4\n",
            "ohhenrie\n",
            "charlie\n",
            "baesangwook\n",
            "obama\n",
            "baesangwook\n",
            "ohhenrie\n",
            "clinton\n",
            "2\n",
            "baesangwook\n",
            "ohhenrie\n"
          ]
        }
      ]
    },
    {
      "cell_type": "code",
      "source": [
        "import sys\n",
        "N,M = map(int, input().split())\n",
        "R = {sys.stdin.readline().strip() for _ in [0]*N}&{sys.stdin.readline().strip() for _ in [0]*M}\n",
        "print(len(R), *sorted(R), sep='\\n')"
      ],
      "metadata": {
        "id": "xV27mg1nddeR"
      },
      "execution_count": null,
      "outputs": []
    },
    {
      "cell_type": "markdown",
      "source": [
        "## 대칭 차집합"
      ],
      "metadata": {
        "id": "l7VCSR-qGPE-"
      }
    },
    {
      "cell_type": "code",
      "source": [
        "input().split()\n",
        "print(len({*input().split()}^{*input().split()}))"
      ],
      "metadata": {
        "id": "rHzmwxWRGRHs",
        "colab": {
          "base_uri": "https://localhost:8080/"
        },
        "outputId": "a11b32c2-f0b0-45a6-b1ea-916ed7f3f996"
      },
      "execution_count": null,
      "outputs": [
        {
          "output_type": "stream",
          "name": "stdout",
          "text": [
            "3 5\n",
            "1 2 4\n",
            "2 3 4 5 6\n",
            "4\n"
          ]
        }
      ]
    },
    {
      "cell_type": "markdown",
      "source": [
        "## 서로 다른 부분 문자열의 개수"
      ],
      "metadata": {
        "id": "1jjH7onJGRhP"
      }
    },
    {
      "cell_type": "code",
      "source": [
        "S = input()\n",
        "print(len({S[j:j+i] for i in range(1,len(S)+1) for j in range(len(S)-i+1)}))"
      ],
      "metadata": {
        "id": "qfDEpypdGUT3",
        "colab": {
          "base_uri": "https://localhost:8080/"
        },
        "outputId": "3e8d65d8-6fd3-49a8-d177-76ef59485dc0"
      },
      "execution_count": null,
      "outputs": [
        {
          "output_type": "stream",
          "name": "stdout",
          "text": [
            "ababc\n",
            "12\n"
          ]
        }
      ]
    },
    {
      "cell_type": "code",
      "source": [
        "S = input()\n",
        "print(len({S[i:j] for i in range(len(S)) for j in range(i+1,len(S)+1)}))"
      ],
      "metadata": {
        "colab": {
          "base_uri": "https://localhost:8080/"
        },
        "id": "2vAgW8e7MpYa",
        "outputId": "f8630504-3e41-4c9e-cd51-8ce25d08764f"
      },
      "execution_count": null,
      "outputs": [
        {
          "output_type": "stream",
          "name": "stdout",
          "text": [
            "ababc\n",
            "12\n"
          ]
        }
      ]
    },
    {
      "cell_type": "code",
      "source": [
        "S = input()\n",
        "P = set()\n",
        "for i in range(1,len(S)+1):\n",
        "  for j in range(len(S)-i+1):\n",
        "    P.add(S[j:j+i])\n",
        "print(len(P))"
      ],
      "metadata": {
        "colab": {
          "base_uri": "https://localhost:8080/"
        },
        "id": "H8TLFMUvLKx9",
        "outputId": "08c0daed-8117-4739-a996-c280a27a773d"
      },
      "execution_count": null,
      "outputs": [
        {
          "output_type": "stream",
          "name": "stdout",
          "text": [
            "ababc\n",
            "12\n"
          ]
        }
      ]
    },
    {
      "cell_type": "code",
      "source": [
        "S = input()\n",
        "P = []\n",
        "for i in range(1,len(S)+1):\n",
        "  for j in range(len(S)-i+1):\n",
        "    P.append(S[j:j+i])\n",
        "print(len({*P}))"
      ],
      "metadata": {
        "colab": {
          "base_uri": "https://localhost:8080/"
        },
        "id": "bNL_KgcKKeUj",
        "outputId": "c69e7fdb-4fcd-4e80-8e4e-f8ccd63b9999"
      },
      "execution_count": null,
      "outputs": [
        {
          "output_type": "stream",
          "name": "stdout",
          "text": [
            "ababc\n",
            "12\n"
          ]
        }
      ]
    },
    {
      "cell_type": "markdown",
      "source": [
        "# 기하 1"
      ],
      "metadata": {
        "id": "B2fLHkPhQx3K"
      }
    },
    {
      "cell_type": "markdown",
      "source": [
        "## 직사각형에서 탈출"
      ],
      "metadata": {
        "id": "iuB0YHYiQ3I7"
      }
    },
    {
      "cell_type": "code",
      "source": [],
      "metadata": {
        "id": "Z4gRflX3Q-7p"
      },
      "execution_count": null,
      "outputs": []
    },
    {
      "cell_type": "markdown",
      "source": [
        "## 네 번째 점"
      ],
      "metadata": {
        "id": "oSqUw-R8Q_QM"
      }
    },
    {
      "cell_type": "code",
      "source": [],
      "metadata": {
        "id": "1JkNAOObRCUj"
      },
      "execution_count": null,
      "outputs": []
    },
    {
      "cell_type": "markdown",
      "source": [
        "## 직각삼각형"
      ],
      "metadata": {
        "id": "nX9HGvDuRCq9"
      }
    },
    {
      "cell_type": "code",
      "source": [],
      "metadata": {
        "id": "or0R89DCREJO"
      },
      "execution_count": null,
      "outputs": []
    },
    {
      "cell_type": "markdown",
      "source": [
        "## 참외밭"
      ],
      "metadata": {
        "id": "1PDPbzO-REvP"
      }
    },
    {
      "cell_type": "code",
      "source": [],
      "metadata": {
        "id": "Ahcvfs5HRG6T"
      },
      "execution_count": null,
      "outputs": []
    },
    {
      "cell_type": "markdown",
      "source": [
        "## 택시 기하학"
      ],
      "metadata": {
        "id": "6uTw1DPBREsY"
      }
    },
    {
      "cell_type": "code",
      "source": [],
      "metadata": {
        "id": "phyqjsLURJ2D"
      },
      "execution_count": null,
      "outputs": []
    },
    {
      "cell_type": "markdown",
      "source": [
        "## 터렛"
      ],
      "metadata": {
        "id": "fO1-Zv4kRNOu"
      }
    },
    {
      "cell_type": "code",
      "source": [],
      "metadata": {
        "id": "ISiRingFROdN"
      },
      "execution_count": null,
      "outputs": []
    },
    {
      "cell_type": "markdown",
      "source": [
        "## 어린 왕자"
      ],
      "metadata": {
        "id": "3bXgEILxRSOz"
      }
    },
    {
      "cell_type": "code",
      "source": [],
      "metadata": {
        "id": "AT4rtecaRUJ_"
      },
      "execution_count": null,
      "outputs": []
    },
    {
      "cell_type": "markdown",
      "source": [
        "## 하키"
      ],
      "metadata": {
        "id": "rJ17kw8_RUba"
      }
    },
    {
      "cell_type": "code",
      "source": [],
      "metadata": {
        "id": "V6sjV0U-RWpz"
      },
      "execution_count": null,
      "outputs": []
    },
    {
      "cell_type": "markdown",
      "source": [
        "# 스택"
      ],
      "metadata": {
        "id": "mZItnT2I9Kuk"
      }
    },
    {
      "cell_type": "markdown",
      "source": [
        "## 키로거"
      ],
      "metadata": {
        "id": "Q7CqtrdV9J2k"
      }
    },
    {
      "cell_type": "code",
      "source": [
        "# 비밀번호를 커서 기준으로 좌우로 분할하여 스택에 저장\n",
        "# 커서를 직접 이동시키는 대신,\n",
        "# 커서를 고정하고 문자열만 좌우로 움직여서 구현\n",
        "# 단, 커서가 이동 가능한 범위에 대한 제약 주의\n",
        "for _ in range(int(input())):\n",
        "  L,R = [],[]\n",
        "  for c in [*input()]:\n",
        "    if c=='<':\n",
        "      if L:\n",
        "        R.append(L.pop())\n",
        "    elif c=='>':\n",
        "      if R:\n",
        "        L.append(R.pop())\n",
        "    elif c=='-':\n",
        "      if L:\n",
        "        L.pop()\n",
        "    else:\n",
        "      L.append(c)\n",
        "  print(''.join(L+R[::-1]))"
      ],
      "metadata": {
        "colab": {
          "base_uri": "https://localhost:8080/"
        },
        "id": "xEC0kycViRt1",
        "outputId": "9e3f21b2-6dcd-4593-e7bb-300186982bb1"
      },
      "execution_count": null,
      "outputs": [
        {
          "output_type": "stream",
          "name": "stdout",
          "text": [
            "2\n",
            "<<BP<A>>Cd-\n",
            "BAPC\n",
            "ThIsIsS3Cr3t<<<<-3>\n",
            "ThIsIsS3Cr3t\n"
          ]
        }
      ]
    },
    {
      "cell_type": "code",
      "source": [
        "# 시간 초과\n",
        "for _ in range(int(input())):\n",
        "  i,P = 0,[]\n",
        "  for c in [*input()]:\n",
        "    if c=='<' and i>0:\n",
        "      i -= 1\n",
        "    elif c=='>' and i<len(P):\n",
        "      i += 1\n",
        "    elif c=='-' and i>0:\n",
        "      P.pop(i-1)\n",
        "      i -= 1\n",
        "    elif c not in '<>-':\n",
        "      P.insert(i,c)\n",
        "      i += 1\n",
        "  print(''.join(P))"
      ],
      "metadata": {
        "colab": {
          "base_uri": "https://localhost:8080/"
        },
        "id": "_LR0rvOx9Jjr",
        "outputId": "be13c941-9826-4c29-efa1-f295f7b9668a"
      },
      "execution_count": null,
      "outputs": [
        {
          "output_type": "stream",
          "name": "stdout",
          "text": [
            "1\n",
            "abd<<<>>E-w\n",
            "abwd\n"
          ]
        }
      ]
    },
    {
      "cell_type": "markdown",
      "source": [
        "# 분할 정복"
      ],
      "metadata": {
        "id": "KSB-7OUy-Fry"
      }
    },
    {
      "cell_type": "markdown",
      "source": [
        "## 곱셈"
      ],
      "metadata": {
        "id": "kz-Kad-I-Fdn"
      }
    },
    {
      "cell_type": "code",
      "source": [
        "# 내장 함수 사용; 알아서 효율적인 알고리즘으로 계산\n",
        "print(pow(*map(int,input().split())))"
      ],
      "metadata": {
        "colab": {
          "base_uri": "https://localhost:8080/"
        },
        "id": "aeLhftwsY0dG",
        "outputId": "f5c8e2ed-f649-4cda-aad2-1b0b18824b6a"
      },
      "execution_count": null,
      "outputs": [
        {
          "output_type": "stream",
          "name": "stdout",
          "text": [
            "67 5 17\n",
            "16\n"
          ]
        }
      ]
    },
    {
      "cell_type": "code",
      "source": [
        "# 재귀 함수 정의\n",
        "def f(A,B,C):\n",
        "  if B==1:\n",
        "    return A%C\n",
        "  else:\n",
        "    return f(A,B//2,C)**2*[1,A][B%2]%C\n",
        "print(f(*map(int,input().split())))"
      ],
      "metadata": {
        "colab": {
          "base_uri": "https://localhost:8080/"
        },
        "id": "pcdJlf2u-It5",
        "outputId": "133ca3af-095e-4696-d796-9accf1ce64ac"
      },
      "execution_count": null,
      "outputs": [
        {
          "output_type": "stream",
          "name": "stdout",
          "text": [
            "67 5 17\n",
            "16\n"
          ]
        }
      ]
    },
    {
      "cell_type": "code",
      "source": [
        "# 재귀 함수 가독성 개선\n",
        "def f(A,B,C):\n",
        "  if B==1: # 거듭제곱하지 않을 때\n",
        "    return A%C\n",
        "  else:\n",
        "    r = f(A,B//2,C)\n",
        "    if B%2: # 홀수제곱일 때\n",
        "      return ((r**2)*A)%C\n",
        "    else: # 짝수제곱일 때\n",
        "      return (r**2)%C\n",
        "print(f(*map(int,input().split())))"
      ],
      "metadata": {
        "colab": {
          "base_uri": "https://localhost:8080/"
        },
        "id": "6HrPjrgPfcxS",
        "outputId": "cb1f88ff-1a7e-493e-8ef4-79b84a9e360b"
      },
      "execution_count": null,
      "outputs": [
        {
          "output_type": "stream",
          "name": "stdout",
          "text": [
            "67 5 17\n",
            "16\n"
          ]
        }
      ]
    }
  ]
}